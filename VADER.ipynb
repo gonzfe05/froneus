{
 "cells": [
  {
   "cell_type": "markdown",
   "metadata": {},
   "source": [
    "# VADER - Valence Aware Dictionary and sEntiment Reasoner\n",
    "\n",
    "We will proceed to use vader as a representation of the reviews.  \n",
    "VADER is a lexicon and rule-based sentiment analysis tool that is specifically attuned to sentiments expressed in social media, and works well on texts from other domains.\n",
    "The lexicon is sensitive both the polarity and the intensity of sentiments. It outputs 4 scoresL Positive, Neutral , Negative and Compund. The compund score is computed by summing the valence scores of each word in the lexicon, adjusted according to the rules, and then normalized to be between -1 (most extreme negative) and +1 (most extreme positive).\n",
    "We will use it to project the reviews to a space of easier separability."
   ]
  },
  {
   "cell_type": "code",
   "execution_count": null,
   "metadata": {},
   "outputs": [],
   "source": [
    "#import nltk\n",
    "#nltk.download('vader_lexicon')"
   ]
  },
  {
   "cell_type": "code",
   "execution_count": 137,
   "metadata": {},
   "outputs": [],
   "source": [
    "import pandas as pd\n",
    "import re\n",
    "from sklearn.pipeline import Pipeline\n",
    "from sklearn.ensemble import RandomForestClassifier, AdaBoostClassifier, GradientBoostingClassifier\n",
    "from sklearn.model_selection import GridSearchCV\n",
    "from sklearn.metrics import confusion_matrix\n",
    "from xgboost import XGBClassifier\n",
    "from nltk.sentiment.vader import SentimentIntensityAnalyzer\n",
    "import seaborn as sns\n",
    "from utils import Clustering_utils, Plotting_utils, Features_utils"
   ]
  },
  {
   "cell_type": "code",
   "execution_count": 38,
   "metadata": {},
   "outputs": [],
   "source": [
    "analyser = SentimentIntensityAnalyzer()\n",
    "def sentiment_analyzer_scores(sentence):\n",
    "    score = analyser.polarity_scores(sentence)\n",
    "    return [score['neg'],score['neu'],score['pos'],score['compound']]\n",
    "    \n"
   ]
  },
  {
   "cell_type": "code",
   "execution_count": 39,
   "metadata": {},
   "outputs": [],
   "source": [
    "# Load datasets\n",
    "X_train = pd.read_csv('data/X_train.csv', header=None, names=['text'])\n",
    "X_train['text'] = X_train['text'].apply(lambda text: re.sub('\\n', '', text))\n",
    "X_test = pd.read_csv('data/X_test.csv', header=None, names=['text'])\n",
    "X_test['text'] = X_test['text'].apply(lambda text: re.sub('\\n', '', text))\n",
    "Y_train = pd.read_csv('data/Y_train.csv', header=None, names=['label'])\n",
    "Y_test = pd.read_csv('data/Y_test.csv', header=None, names=['label'])"
   ]
  },
  {
   "cell_type": "markdown",
   "metadata": {},
   "source": [
    "# Reviews to vectors\n",
    "\n",
    "We will now build a function that uses the model to vectorize the reviews, and train a classifier over the projected space."
   ]
  },
  {
   "cell_type": "code",
   "execution_count": 27,
   "metadata": {},
   "outputs": [],
   "source": [
    "vader_scores_train = []\n",
    "for text in X_train.text:\n",
    "        scores = sentiment_analyzer_scores(text)\n",
    "        vader_scores_train.append(scores)"
   ]
  },
  {
   "cell_type": "code",
   "execution_count": 28,
   "metadata": {},
   "outputs": [],
   "source": [
    "vectorizedReviewsDF = pd.DataFrame.from_records(vader_scores_train)\n",
    "vectorizedReviewsDF.to_csv('data/vectorized/train_vader_scores.csv',index=False)"
   ]
  },
  {
   "cell_type": "markdown",
   "metadata": {},
   "source": [
    "# Gridsearch\n",
    "\n",
    "We proceed to do a gridsearch with crossvalidation over **XGboost**  \n",
    "We chose booosting algorithms because they scale nicely with the number of variables, are nonlinear and robust to noise, which we saw is what we need. Ther are also generally a great benchmark.\n",
    "\n",
    "#### Since there is a tight time constraint, we will not do an exhaustive parameter space search. We will focus on showing the process of optimizing the models. It is very probable that we will arrive at overfited models or suboptimal parameters.\n",
    "\n",
    "#### We will use fewer CV folds than reocmended, to accelerate training time. We will also try only a couple of parameters per algorithm. This will highly increase the probability of overfit.\n",
    "\n",
    "#### Given that the classess are unbalanced, there will be a bias towards positive clasification. It is reccomended either for the observations to be weighted according to their unbalance or to use oversampling for the negative and neutral classes."
   ]
  },
  {
   "cell_type": "code",
   "execution_count": 21,
   "metadata": {},
   "outputs": [
    {
     "name": "stdout",
     "output_type": "stream",
     "text": [
      "Fitting 2 folds for each of 8 candidates, totalling 16 fits\n"
     ]
    },
    {
     "name": "stderr",
     "output_type": "stream",
     "text": [
      "[Parallel(n_jobs=1)]: Using backend SequentialBackend with 1 concurrent workers.\n"
     ]
    },
    {
     "name": "stdout",
     "output_type": "stream",
     "text": [
      "[CV] model__booster=gbtree, model__n_estimators=300, model__n_jobs=4, model__num_class=3, model__objective=multi:softmax, model__random_state=91, model__subsample=1.0, model__verbose=False \n",
      "[CV]  model__booster=gbtree, model__n_estimators=300, model__n_jobs=4, model__num_class=3, model__objective=multi:softmax, model__random_state=91, model__subsample=1.0, model__verbose=False, score=0.790, total=  14.8s\n",
      "[CV] model__booster=gbtree, model__n_estimators=300, model__n_jobs=4, model__num_class=3, model__objective=multi:softmax, model__random_state=91, model__subsample=1.0, model__verbose=False \n"
     ]
    },
    {
     "name": "stderr",
     "output_type": "stream",
     "text": [
      "[Parallel(n_jobs=1)]: Done   1 out of   1 | elapsed:   14.8s remaining:    0.0s\n"
     ]
    },
    {
     "name": "stdout",
     "output_type": "stream",
     "text": [
      "[CV]  model__booster=gbtree, model__n_estimators=300, model__n_jobs=4, model__num_class=3, model__objective=multi:softmax, model__random_state=91, model__subsample=1.0, model__verbose=False, score=0.790, total=  14.8s\n",
      "[CV] model__booster=gbtree, model__n_estimators=300, model__n_jobs=4, model__num_class=3, model__objective=multi:softmax, model__random_state=91, model__subsample=0.4, model__verbose=False \n"
     ]
    },
    {
     "name": "stderr",
     "output_type": "stream",
     "text": [
      "[Parallel(n_jobs=1)]: Done   2 out of   2 | elapsed:   29.6s remaining:    0.0s\n"
     ]
    },
    {
     "name": "stdout",
     "output_type": "stream",
     "text": [
      "[CV]  model__booster=gbtree, model__n_estimators=300, model__n_jobs=4, model__num_class=3, model__objective=multi:softmax, model__random_state=91, model__subsample=0.4, model__verbose=False, score=0.790, total=  19.6s\n",
      "[CV] model__booster=gbtree, model__n_estimators=300, model__n_jobs=4, model__num_class=3, model__objective=multi:softmax, model__random_state=91, model__subsample=0.4, model__verbose=False \n"
     ]
    },
    {
     "name": "stderr",
     "output_type": "stream",
     "text": [
      "[Parallel(n_jobs=1)]: Done   3 out of   3 | elapsed:   49.2s remaining:    0.0s\n"
     ]
    },
    {
     "name": "stdout",
     "output_type": "stream",
     "text": [
      "[CV]  model__booster=gbtree, model__n_estimators=300, model__n_jobs=4, model__num_class=3, model__objective=multi:softmax, model__random_state=91, model__subsample=0.4, model__verbose=False, score=0.790, total=  19.1s\n",
      "[CV] model__booster=gbtree, model__n_estimators=1500, model__n_jobs=4, model__num_class=3, model__objective=multi:softmax, model__random_state=91, model__subsample=1.0, model__verbose=False \n",
      "[CV]  model__booster=gbtree, model__n_estimators=1500, model__n_jobs=4, model__num_class=3, model__objective=multi:softmax, model__random_state=91, model__subsample=1.0, model__verbose=False, score=0.790, total= 1.2min\n",
      "[CV] model__booster=gbtree, model__n_estimators=1500, model__n_jobs=4, model__num_class=3, model__objective=multi:softmax, model__random_state=91, model__subsample=1.0, model__verbose=False \n",
      "[CV]  model__booster=gbtree, model__n_estimators=1500, model__n_jobs=4, model__num_class=3, model__objective=multi:softmax, model__random_state=91, model__subsample=1.0, model__verbose=False, score=0.790, total= 1.2min\n",
      "[CV] model__booster=gbtree, model__n_estimators=1500, model__n_jobs=4, model__num_class=3, model__objective=multi:softmax, model__random_state=91, model__subsample=0.4, model__verbose=False \n",
      "[CV]  model__booster=gbtree, model__n_estimators=1500, model__n_jobs=4, model__num_class=3, model__objective=multi:softmax, model__random_state=91, model__subsample=0.4, model__verbose=False, score=0.790, total= 1.6min\n",
      "[CV] model__booster=gbtree, model__n_estimators=1500, model__n_jobs=4, model__num_class=3, model__objective=multi:softmax, model__random_state=91, model__subsample=0.4, model__verbose=False \n",
      "[CV]  model__booster=gbtree, model__n_estimators=1500, model__n_jobs=4, model__num_class=3, model__objective=multi:softmax, model__random_state=91, model__subsample=0.4, model__verbose=False, score=0.790, total= 1.6min\n",
      "[CV] model__booster=dart, model__n_estimators=300, model__n_jobs=4, model__num_class=3, model__objective=multi:softmax, model__random_state=91, model__subsample=1.0, model__verbose=False \n",
      "[CV]  model__booster=dart, model__n_estimators=300, model__n_jobs=4, model__num_class=3, model__objective=multi:softmax, model__random_state=91, model__subsample=1.0, model__verbose=False, score=0.790, total= 3.8min\n",
      "[CV] model__booster=dart, model__n_estimators=300, model__n_jobs=4, model__num_class=3, model__objective=multi:softmax, model__random_state=91, model__subsample=1.0, model__verbose=False \n",
      "[CV]  model__booster=dart, model__n_estimators=300, model__n_jobs=4, model__num_class=3, model__objective=multi:softmax, model__random_state=91, model__subsample=1.0, model__verbose=False, score=0.790, total= 3.9min\n",
      "[CV] model__booster=dart, model__n_estimators=300, model__n_jobs=4, model__num_class=3, model__objective=multi:softmax, model__random_state=91, model__subsample=0.4, model__verbose=False \n",
      "[CV]  model__booster=dart, model__n_estimators=300, model__n_jobs=4, model__num_class=3, model__objective=multi:softmax, model__random_state=91, model__subsample=0.4, model__verbose=False, score=0.790, total= 4.2min\n",
      "[CV] model__booster=dart, model__n_estimators=300, model__n_jobs=4, model__num_class=3, model__objective=multi:softmax, model__random_state=91, model__subsample=0.4, model__verbose=False \n",
      "[CV]  model__booster=dart, model__n_estimators=300, model__n_jobs=4, model__num_class=3, model__objective=multi:softmax, model__random_state=91, model__subsample=0.4, model__verbose=False, score=0.790, total= 4.2min\n",
      "[CV] model__booster=dart, model__n_estimators=1500, model__n_jobs=4, model__num_class=3, model__objective=multi:softmax, model__random_state=91, model__subsample=1.0, model__verbose=False \n",
      "[CV]  model__booster=dart, model__n_estimators=1500, model__n_jobs=4, model__num_class=3, model__objective=multi:softmax, model__random_state=91, model__subsample=1.0, model__verbose=False, score=0.790, total=120.4min\n",
      "[CV] model__booster=dart, model__n_estimators=1500, model__n_jobs=4, model__num_class=3, model__objective=multi:softmax, model__random_state=91, model__subsample=1.0, model__verbose=False \n",
      "[CV]  model__booster=dart, model__n_estimators=1500, model__n_jobs=4, model__num_class=3, model__objective=multi:softmax, model__random_state=91, model__subsample=1.0, model__verbose=False, score=0.790, total=119.2min\n",
      "[CV] model__booster=dart, model__n_estimators=1500, model__n_jobs=4, model__num_class=3, model__objective=multi:softmax, model__random_state=91, model__subsample=0.4, model__verbose=False \n",
      "[CV]  model__booster=dart, model__n_estimators=1500, model__n_jobs=4, model__num_class=3, model__objective=multi:softmax, model__random_state=91, model__subsample=0.4, model__verbose=False, score=0.790, total=147.3min\n",
      "[CV] model__booster=dart, model__n_estimators=1500, model__n_jobs=4, model__num_class=3, model__objective=multi:softmax, model__random_state=91, model__subsample=0.4, model__verbose=False \n",
      "[CV]  model__booster=dart, model__n_estimators=1500, model__n_jobs=4, model__num_class=3, model__objective=multi:softmax, model__random_state=91, model__subsample=0.4, model__verbose=False, score=0.790, total=166.5min\n"
     ]
    },
    {
     "name": "stderr",
     "output_type": "stream",
     "text": [
      "[Parallel(n_jobs=1)]: Done  16 out of  16 | elapsed: 576.2min finished\n"
     ]
    }
   ],
   "source": [
    "def warn(*args, **kwargs):\n",
    "    pass\n",
    "import warnings\n",
    "warnings.warn = warn\n",
    "\n",
    "# read vectorized reviews\n",
    "X_trainVec = pd.read_csv('data/vectorized/train_vader_scores.csv')\n",
    "\n",
    "#Generate model pipeline\n",
    "XGB_pipeline = Pipeline([('model', XGBClassifier())])\n",
    "\n",
    "#Gridsearch params\n",
    "XGradientBoosting_param_grid = { \n",
    "    'model__objective':['multi:softmax'],\n",
    "    'model__num_class':[3],\n",
    "    'model__n_estimators': [300 ,1500],\n",
    "    'model__booster': ['gbtree', 'dart'],\n",
    "    'model__subsample': [1.0,0.4],\n",
    "    'model__n_jobs':[4],\n",
    "    'model__verbose':[False],\n",
    "    'model__random_state' : [91]}\n",
    "\n",
    "#search\n",
    "grid = GridSearchCV(XGB_pipeline, param_grid=XGradientBoosting_param_grid, cv=2,verbose=4)\n",
    "XGB_grid_result = grid.fit(X_trainVec, Y_train)"
   ]
  },
  {
   "cell_type": "code",
   "execution_count": 23,
   "metadata": {},
   "outputs": [
    {
     "data": {
      "text/html": [
       "<div>\n",
       "<style scoped>\n",
       "    .dataframe tbody tr th:only-of-type {\n",
       "        vertical-align: middle;\n",
       "    }\n",
       "\n",
       "    .dataframe tbody tr th {\n",
       "        vertical-align: top;\n",
       "    }\n",
       "\n",
       "    .dataframe thead th {\n",
       "        text-align: right;\n",
       "    }\n",
       "</style>\n",
       "<table border=\"1\" class=\"dataframe\">\n",
       "  <thead>\n",
       "    <tr style=\"text-align: right;\">\n",
       "      <th></th>\n",
       "      <th>mean_fit_time</th>\n",
       "      <th>std_fit_time</th>\n",
       "      <th>mean_score_time</th>\n",
       "      <th>std_score_time</th>\n",
       "      <th>param_model__booster</th>\n",
       "      <th>param_model__n_estimators</th>\n",
       "      <th>param_model__n_jobs</th>\n",
       "      <th>param_model__num_class</th>\n",
       "      <th>param_model__objective</th>\n",
       "      <th>param_model__random_state</th>\n",
       "      <th>...</th>\n",
       "      <th>std_test_score</th>\n",
       "      <th>rank_test_score</th>\n",
       "      <th>model__booster</th>\n",
       "      <th>model__n_estimators</th>\n",
       "      <th>model__n_jobs</th>\n",
       "      <th>model__num_class</th>\n",
       "      <th>model__objective</th>\n",
       "      <th>model__random_state</th>\n",
       "      <th>model__subsample</th>\n",
       "      <th>model__verbose</th>\n",
       "    </tr>\n",
       "  </thead>\n",
       "  <tbody>\n",
       "    <tr>\n",
       "      <td>0</td>\n",
       "      <td>12.838375</td>\n",
       "      <td>0.043000</td>\n",
       "      <td>1.944955</td>\n",
       "      <td>0.012297</td>\n",
       "      <td>gbtree</td>\n",
       "      <td>300</td>\n",
       "      <td>4</td>\n",
       "      <td>3</td>\n",
       "      <td>multi:softmax</td>\n",
       "      <td>91</td>\n",
       "      <td>...</td>\n",
       "      <td>1.206484e-04</td>\n",
       "      <td>6</td>\n",
       "      <td>gbtree</td>\n",
       "      <td>300</td>\n",
       "      <td>4</td>\n",
       "      <td>3</td>\n",
       "      <td>multi:softmax</td>\n",
       "      <td>91</td>\n",
       "      <td>1.0</td>\n",
       "      <td>False</td>\n",
       "    </tr>\n",
       "    <tr>\n",
       "      <td>1</td>\n",
       "      <td>17.326064</td>\n",
       "      <td>0.260683</td>\n",
       "      <td>2.045563</td>\n",
       "      <td>0.010155</td>\n",
       "      <td>gbtree</td>\n",
       "      <td>300</td>\n",
       "      <td>4</td>\n",
       "      <td>3</td>\n",
       "      <td>multi:softmax</td>\n",
       "      <td>91</td>\n",
       "      <td>...</td>\n",
       "      <td>1.903109e-04</td>\n",
       "      <td>3</td>\n",
       "      <td>gbtree</td>\n",
       "      <td>300</td>\n",
       "      <td>4</td>\n",
       "      <td>3</td>\n",
       "      <td>multi:softmax</td>\n",
       "      <td>91</td>\n",
       "      <td>0.4</td>\n",
       "      <td>False</td>\n",
       "    </tr>\n",
       "    <tr>\n",
       "      <td>2</td>\n",
       "      <td>62.945812</td>\n",
       "      <td>0.094819</td>\n",
       "      <td>9.190737</td>\n",
       "      <td>0.111249</td>\n",
       "      <td>gbtree</td>\n",
       "      <td>1500</td>\n",
       "      <td>4</td>\n",
       "      <td>3</td>\n",
       "      <td>multi:softmax</td>\n",
       "      <td>91</td>\n",
       "      <td>...</td>\n",
       "      <td>2.268479e-05</td>\n",
       "      <td>8</td>\n",
       "      <td>gbtree</td>\n",
       "      <td>1500</td>\n",
       "      <td>4</td>\n",
       "      <td>3</td>\n",
       "      <td>multi:softmax</td>\n",
       "      <td>91</td>\n",
       "      <td>1.0</td>\n",
       "      <td>False</td>\n",
       "    </tr>\n",
       "    <tr>\n",
       "      <td>3</td>\n",
       "      <td>84.159938</td>\n",
       "      <td>1.134373</td>\n",
       "      <td>10.060416</td>\n",
       "      <td>0.031552</td>\n",
       "      <td>gbtree</td>\n",
       "      <td>1500</td>\n",
       "      <td>4</td>\n",
       "      <td>3</td>\n",
       "      <td>multi:softmax</td>\n",
       "      <td>91</td>\n",
       "      <td>...</td>\n",
       "      <td>2.273190e-04</td>\n",
       "      <td>1</td>\n",
       "      <td>gbtree</td>\n",
       "      <td>1500</td>\n",
       "      <td>4</td>\n",
       "      <td>3</td>\n",
       "      <td>multi:softmax</td>\n",
       "      <td>91</td>\n",
       "      <td>0.4</td>\n",
       "      <td>False</td>\n",
       "    </tr>\n",
       "    <tr>\n",
       "      <td>4</td>\n",
       "      <td>227.115137</td>\n",
       "      <td>1.951268</td>\n",
       "      <td>1.992457</td>\n",
       "      <td>0.009831</td>\n",
       "      <td>dart</td>\n",
       "      <td>300</td>\n",
       "      <td>4</td>\n",
       "      <td>3</td>\n",
       "      <td>multi:softmax</td>\n",
       "      <td>91</td>\n",
       "      <td>...</td>\n",
       "      <td>1.206484e-04</td>\n",
       "      <td>6</td>\n",
       "      <td>dart</td>\n",
       "      <td>300</td>\n",
       "      <td>4</td>\n",
       "      <td>3</td>\n",
       "      <td>multi:softmax</td>\n",
       "      <td>91</td>\n",
       "      <td>1.0</td>\n",
       "      <td>False</td>\n",
       "    </tr>\n",
       "    <tr>\n",
       "      <td>5</td>\n",
       "      <td>250.963804</td>\n",
       "      <td>0.244319</td>\n",
       "      <td>2.120658</td>\n",
       "      <td>0.009332</td>\n",
       "      <td>dart</td>\n",
       "      <td>300</td>\n",
       "      <td>4</td>\n",
       "      <td>3</td>\n",
       "      <td>multi:softmax</td>\n",
       "      <td>91</td>\n",
       "      <td>...</td>\n",
       "      <td>1.054090e-04</td>\n",
       "      <td>2</td>\n",
       "      <td>dart</td>\n",
       "      <td>300</td>\n",
       "      <td>4</td>\n",
       "      <td>3</td>\n",
       "      <td>multi:softmax</td>\n",
       "      <td>91</td>\n",
       "      <td>0.4</td>\n",
       "      <td>False</td>\n",
       "    </tr>\n",
       "    <tr>\n",
       "      <td>6</td>\n",
       "      <td>7179.216493</td>\n",
       "      <td>34.262828</td>\n",
       "      <td>9.496583</td>\n",
       "      <td>0.067857</td>\n",
       "      <td>dart</td>\n",
       "      <td>1500</td>\n",
       "      <td>4</td>\n",
       "      <td>3</td>\n",
       "      <td>multi:softmax</td>\n",
       "      <td>91</td>\n",
       "      <td>...</td>\n",
       "      <td>9.146655e-07</td>\n",
       "      <td>4</td>\n",
       "      <td>dart</td>\n",
       "      <td>1500</td>\n",
       "      <td>4</td>\n",
       "      <td>3</td>\n",
       "      <td>multi:softmax</td>\n",
       "      <td>91</td>\n",
       "      <td>1.0</td>\n",
       "      <td>False</td>\n",
       "    </tr>\n",
       "    <tr>\n",
       "      <td>7</td>\n",
       "      <td>9402.951480</td>\n",
       "      <td>574.382509</td>\n",
       "      <td>10.393914</td>\n",
       "      <td>0.034884</td>\n",
       "      <td>dart</td>\n",
       "      <td>1500</td>\n",
       "      <td>4</td>\n",
       "      <td>3</td>\n",
       "      <td>multi:softmax</td>\n",
       "      <td>91</td>\n",
       "      <td>...</td>\n",
       "      <td>1.141173e-04</td>\n",
       "      <td>5</td>\n",
       "      <td>dart</td>\n",
       "      <td>1500</td>\n",
       "      <td>4</td>\n",
       "      <td>3</td>\n",
       "      <td>multi:softmax</td>\n",
       "      <td>91</td>\n",
       "      <td>0.4</td>\n",
       "      <td>False</td>\n",
       "    </tr>\n",
       "  </tbody>\n",
       "</table>\n",
       "<p>8 rows × 25 columns</p>\n",
       "</div>"
      ],
      "text/plain": [
       "   mean_fit_time  std_fit_time  mean_score_time  std_score_time  \\\n",
       "0      12.838375      0.043000         1.944955        0.012297   \n",
       "1      17.326064      0.260683         2.045563        0.010155   \n",
       "2      62.945812      0.094819         9.190737        0.111249   \n",
       "3      84.159938      1.134373        10.060416        0.031552   \n",
       "4     227.115137      1.951268         1.992457        0.009831   \n",
       "5     250.963804      0.244319         2.120658        0.009332   \n",
       "6    7179.216493     34.262828         9.496583        0.067857   \n",
       "7    9402.951480    574.382509        10.393914        0.034884   \n",
       "\n",
       "  param_model__booster param_model__n_estimators param_model__n_jobs  \\\n",
       "0               gbtree                       300                   4   \n",
       "1               gbtree                       300                   4   \n",
       "2               gbtree                      1500                   4   \n",
       "3               gbtree                      1500                   4   \n",
       "4                 dart                       300                   4   \n",
       "5                 dart                       300                   4   \n",
       "6                 dart                      1500                   4   \n",
       "7                 dart                      1500                   4   \n",
       "\n",
       "  param_model__num_class param_model__objective param_model__random_state  \\\n",
       "0                      3          multi:softmax                        91   \n",
       "1                      3          multi:softmax                        91   \n",
       "2                      3          multi:softmax                        91   \n",
       "3                      3          multi:softmax                        91   \n",
       "4                      3          multi:softmax                        91   \n",
       "5                      3          multi:softmax                        91   \n",
       "6                      3          multi:softmax                        91   \n",
       "7                      3          multi:softmax                        91   \n",
       "\n",
       "   ... std_test_score rank_test_score  model__booster  model__n_estimators  \\\n",
       "0  ...   1.206484e-04               6          gbtree                  300   \n",
       "1  ...   1.903109e-04               3          gbtree                  300   \n",
       "2  ...   2.268479e-05               8          gbtree                 1500   \n",
       "3  ...   2.273190e-04               1          gbtree                 1500   \n",
       "4  ...   1.206484e-04               6            dart                  300   \n",
       "5  ...   1.054090e-04               2            dart                  300   \n",
       "6  ...   9.146655e-07               4            dart                 1500   \n",
       "7  ...   1.141173e-04               5            dart                 1500   \n",
       "\n",
       "   model__n_jobs  model__num_class  model__objective model__random_state  \\\n",
       "0              4                 3     multi:softmax                  91   \n",
       "1              4                 3     multi:softmax                  91   \n",
       "2              4                 3     multi:softmax                  91   \n",
       "3              4                 3     multi:softmax                  91   \n",
       "4              4                 3     multi:softmax                  91   \n",
       "5              4                 3     multi:softmax                  91   \n",
       "6              4                 3     multi:softmax                  91   \n",
       "7              4                 3     multi:softmax                  91   \n",
       "\n",
       "   model__subsample  model__verbose  \n",
       "0               1.0           False  \n",
       "1               0.4           False  \n",
       "2               1.0           False  \n",
       "3               0.4           False  \n",
       "4               1.0           False  \n",
       "5               0.4           False  \n",
       "6               1.0           False  \n",
       "7               0.4           False  \n",
       "\n",
       "[8 rows x 25 columns]"
      ]
     },
     "execution_count": 23,
     "metadata": {},
     "output_type": "execute_result"
    }
   ],
   "source": [
    "# Gridsearch results to dataframe\n",
    "cvresults = pd.DataFrame.from_dict(XGB_grid_result.cv_results_)\n",
    "cvresults = pd.concat([cvresults.drop('params',axis=1),cvresults.params.apply(pd.Series)],axis=1)\n",
    "cvresults.to_csv('VADER_cvresultsRF_1.csv', index=False)\n",
    "cvresults"
   ]
  },
  {
   "cell_type": "code",
   "execution_count": 40,
   "metadata": {},
   "outputs": [],
   "source": [
    "vader_scores_test = []\n",
    "for text in X_test.text:\n",
    "        scores = sentiment_analyzer_scores(text)\n",
    "        vader_scores_test.append(scores)"
   ]
  },
  {
   "cell_type": "code",
   "execution_count": 41,
   "metadata": {},
   "outputs": [],
   "source": [
    "vectorizedReviewsDF = pd.DataFrame.from_records(vader_scores_test)\n",
    "vectorizedReviewsDF.to_csv('data/vectorized/test_vader_scores.csv',index=False)"
   ]
  },
  {
   "cell_type": "markdown",
   "metadata": {},
   "source": [
    "# Testing\n",
    "\n",
    "We proceed to evaluate the models performance over the test split (30%).  \n",
    "We will use a common performance metric, **confusion matrix**, which measures the number of correctly and incorrectly classified examples. Helps to check the level of overfitting. It has the drawback that it must use a fixed threshold, thus, may be biased because the best threshold may not be the one used."
   ]
  },
  {
   "cell_type": "code",
   "execution_count": 43,
   "metadata": {},
   "outputs": [],
   "source": [
    "X_trainVec = pd.read_csv('data/vectorized/train_vader_scores.csv')\n",
    "X_testVec = pd.read_csv('data/vectorized/test_vader_scores.csv')\n",
    "\n",
    "# Build model with best params\n",
    "xg = XGBClassifier(n_estimators= 1500,booster = 'gbtree',subsample= 0.4,objective= 'multi:softmax',num_class=3,random_state= 91,verbose=10,n_jobs=4)\n",
    "\n",
    "#train\n",
    "xg.fit(X_trainVec, Y_train)\n",
    "#test\n",
    "predicted_Y = xg.predict(X_testVec)\n",
    "predicted_Y_train = xg.predict(X_trainVec)"
   ]
  },
  {
   "cell_type": "markdown",
   "metadata": {},
   "source": [
    "### Visualization of projected space\n",
    "\n",
    "We graph 1000 reviews projected on the vectors generated by VADER.  \n",
    "We can observe that there the projected space offers a clear sperability of the reviews, making it easier for the model to fit the data.\n"
   ]
  },
  {
   "cell_type": "code",
   "execution_count": 142,
   "metadata": {},
   "outputs": [
    {
     "data": {
      "image/png": "[encoded data removed]",
      "text/plain": [
       "<Figure size 1080x720 with 1 Axes>"
      ]
     },
     "metadata": {},
     "output_type": "display_data"
    }
   ],
   "source": [
    "sample = np.random.choice(X_trainVec.shape[0],1000)\n",
    "sample_X = X_trainVec.iloc[sample].reset_index(drop=True)\n",
    "sample_Y = Y_train.iloc[sample].reset_index(drop=True)\n",
    "#Radviz for best features\n",
    "sample_Y_ = sample_Y['label'].apply(lambda x: 1 if x=='positive' else 0 if x=='neutral' else -1)\n",
    "Plotting_utils.plot_RadViz(sample_X,sample_Y_)"
   ]
  },
  {
   "cell_type": "code",
   "execution_count": 135,
   "metadata": {},
   "outputs": [
    {
     "name": "stdout",
     "output_type": "stream",
     "text": [
      "Confusion matrix - Training \n",
      " [[0.76 0.   0.24]\n",
      " [0.3  0.   0.7 ]\n",
      " [0.07 0.   0.93]]\n"
     ]
    },
    {
     "data": {
      "image/png": "[encoded data removed]",
      "text/plain": [
       "<Figure size 432x288 with 1 Axes>"
      ]
     },
     "metadata": {
      "needs_background": "light"
     },
     "output_type": "display_data"
    }
   ],
   "source": [
    "%matplotlib inline\n",
    "cm = confusion_matrix(Y_train,predicted_Y_train)\n",
    "cm = np.array([round(s/sum(cm[i]),2) for i,score in enumerate(cm) for s in score]).reshape(3,3)\n",
    "print('Confusion matrix - Training \\n', cm)\n",
    "_ = sns.barplot(x=['Neg','Neu','Pos'],y=[cm[i][i] for i,x in enumerate(cm)]).set_title(\"Accuracy - Training\")"
   ]
  },
  {
   "cell_type": "code",
   "execution_count": 134,
   "metadata": {},
   "outputs": [
    {
     "name": "stdout",
     "output_type": "stream",
     "text": [
      "Confusion matrix - Testing \n",
      " [[0.76 0.   0.24]\n",
      " [0.3  0.   0.7 ]\n",
      " [0.07 0.   0.93]]\n"
     ]
    },
    {
     "data": {
      "image/png": "[encoded data removed]",
      "text/plain": [
       "<Figure size 432x288 with 1 Axes>"
      ]
     },
     "metadata": {
      "needs_background": "light"
     },
     "output_type": "display_data"
    }
   ],
   "source": [
    "cm = confusion_matrix(Y_test,predicted_Y)\n",
    "cm = np.array([round(s/sum(cm[i]),2) for i,score in enumerate(cm) for s in score]).reshape(3,3)\n",
    "print('Confusion matrix - Testing \\n', cm)\n",
    "_ = sns.barplot(x=['Neg','Neu','Pos'],y=[cm[i][i] for i,x in enumerate(cm)]).set_title(\"Accuracy - Testing\")"
   ]
  },
  {
   "cell_type": "code",
   "execution_count": 109,
   "metadata": {},
   "outputs": [],
   "source": [
    "import pickle\n",
    "# save model to file\n",
    "pickle.dump(xg, open(\"models/VADER/xgboost_VADER.p\", \"wb\"))\n"
   ]
  }
 ],
 "metadata": {
  "kernelspec": {
   "display_name": "py36",
   "language": "python",
   "name": "py36"
  },
  "language_info": {
   "codemirror_mode": {
    "name": "ipython",
    "version": 3
   },
   "file_extension": ".py",
   "mimetype": "text/x-python",
   "name": "python",
   "nbconvert_exporter": "python",
   "pygments_lexer": "ipython3",
   "version": "3.6.9"
  }
 },
 "nbformat": 4,
 "nbformat_minor": 4
}
