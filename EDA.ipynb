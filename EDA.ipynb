{
 "cells": [
  {
   "cell_type": "code",
   "execution_count": 15,
   "metadata": {},
   "outputs": [],
   "source": [
    "import json\n",
    "import pandas as pd"
   ]
  },
  {
   "cell_type": "markdown",
   "metadata": {},
   "source": [
    "# Exploratory data analysis\n",
    "\n",
    "## Parte I\n",
    "\n",
    "### Background\n",
    "\n",
    "Nuevo sitio cuenta con una sección donde los visitantes del Restaurant dejan sus comentarios y una valoración de su visita. \n",
    "En el sitio web anterior dejaban comentarios de su experiencia en el local pero sin valoración.\n",
    "\n",
    "### Task\n",
    "\n",
    "Desarrollo de un modelo que sea capaz de valorar los comentarios de su antiguo sitio.\n",
    "\n",
    "### Data\n",
    "\n",
    "**reviews.json**: Archivo de comentarios de clientes de otros negocios que tienen valoraciones de 1 a 5 estrellas.  \n",
    "**business.json**: Informacion de los negocios.\n",
    "\n"
   ]
  },
  {
   "cell_type": "code",
   "execution_count": 16,
   "metadata": {},
   "outputs": [],
   "source": [
    "with open('challenge/reviews.json') as j:\n",
    "    reviews = json.load(j)\n",
    "with open('challenge/business.json') as j:\n",
    "    business = json.load(j)"
   ]
  },
  {
   "cell_type": "code",
   "execution_count": 17,
   "metadata": {},
   "outputs": [
    {
     "data": {
      "text/plain": [
       "{'review_id': 'GJXCdrto3ASJOqKeVWPi6Q',\n",
       " 'user_id': 'yXQM5uF2jS6es16SJzNHfg',\n",
       " 'business_id': 'NZnhc2sEQy3RmzKTZnqtwQ',\n",
       " 'stars': 5.0,\n",
       " 'useful': 0,\n",
       " 'funny': 0,\n",
       " 'cool': 0,\n",
       " 'text': \"I *adore* Travis at the Hard Rock's new Kelly Cardenas Salon!  I'm always a fan of a great blowout and no stranger to the chains that offer this service; however, Travis has taken the flawless blowout to a whole new level!  \\n\\nTravis's greets you with his perfectly green swoosh in his otherwise perfectly styled black hair and a Vegas-worthy rockstar outfit.  Next comes the most relaxing and incredible shampoo -- where you get a full head message that could cure even the very worst migraine in minutes --- and the scented shampoo room.  Travis has freakishly strong fingers (in a good way) and use the perfect amount of pressure.  That was superb!  Then starts the glorious blowout... where not one, not two, but THREE people were involved in doing the best round-brush action my hair has ever seen.  The team of stylists clearly gets along extremely well, as it's evident from the way they talk to and help one another that it's really genuine and not some corporate requirement.  It was so much fun to be there! \\n\\nNext Travis started with the flat iron.  The way he flipped his wrist to get volume all around without over-doing it and making me look like a Texas pagent girl was admirable.  It's also worth noting that he didn't fry my hair -- something that I've had happen before with less skilled stylists.  At the end of the blowout & style my hair was perfectly bouncey and looked terrific.  The only thing better?  That this awesome blowout lasted for days! \\n\\nTravis, I will see you every single time I'm out in Vegas.  You make me feel beauuuutiful!\",\n",
       " 'date': '2017-01-14 21:30:33'}"
      ]
     },
     "execution_count": 17,
     "metadata": {},
     "output_type": "execute_result"
    }
   ],
   "source": [
    "reviews['reviews'][1]"
   ]
  },
  {
   "cell_type": "code",
   "execution_count": 18,
   "metadata": {},
   "outputs": [
    {
     "data": {
      "text/plain": [
       "{'business_id': 'fweCYi8FmbJXHCqLnwuk8w',\n",
       " 'name': \"Marco's Pizza\",\n",
       " 'address': '5981 Andrews Rd',\n",
       " 'city': 'Mentor-on-the-Lake',\n",
       " 'state': 'OH',\n",
       " 'postal_code': '44060',\n",
       " 'latitude': 41.70852,\n",
       " 'longitude': -81.359556,\n",
       " 'stars': 4.0,\n",
       " 'review_count': 16,\n",
       " 'is_open': 1,\n",
       " 'attributes': {'RestaurantsPriceRange2': '2',\n",
       "  'BusinessAcceptsCreditCards': 'True',\n",
       "  'GoodForKids': 'True',\n",
       "  'RestaurantsDelivery': 'True',\n",
       "  'Alcohol': \"u'none'\",\n",
       "  'OutdoorSeating': 'False',\n",
       "  'RestaurantsGoodForGroups': 'True',\n",
       "  'RestaurantsTakeOut': 'True',\n",
       "  'RestaurantsReservations': 'False',\n",
       "  'BikeParking': 'True',\n",
       "  'RestaurantsAttire': \"u'casual'\",\n",
       "  'Ambience': 'None',\n",
       "  'BusinessParking': 'None'},\n",
       " 'categories': 'Italian, Restaurants, Pizza, Chicken Wings',\n",
       " 'hours': {'Monday': '10:0-0:0',\n",
       "  'Tuesday': '10:0-0:0',\n",
       "  'Wednesday': '10:0-0:0',\n",
       "  'Thursday': '10:0-0:0',\n",
       "  'Friday': '10:0-1:0',\n",
       "  'Saturday': '10:0-1:0',\n",
       "  'Sunday': '10:0-0:0'}}"
      ]
     },
     "execution_count": 18,
     "metadata": {},
     "output_type": "execute_result"
    }
   ],
   "source": [
    "business['business'][0]"
   ]
  },
  {
   "cell_type": "code",
   "execution_count": 19,
   "metadata": {},
   "outputs": [
    {
     "data": {
      "text/html": [
       "<div>\n",
       "<style scoped>\n",
       "    .dataframe tbody tr th:only-of-type {\n",
       "        vertical-align: middle;\n",
       "    }\n",
       "\n",
       "    .dataframe tbody tr th {\n",
       "        vertical-align: top;\n",
       "    }\n",
       "\n",
       "    .dataframe thead th {\n",
       "        text-align: right;\n",
       "    }\n",
       "</style>\n",
       "<table border=\"1\" class=\"dataframe\">\n",
       "  <thead>\n",
       "    <tr style=\"text-align: right;\">\n",
       "      <th></th>\n",
       "      <th>review_id</th>\n",
       "      <th>user_id</th>\n",
       "      <th>business_id</th>\n",
       "      <th>stars</th>\n",
       "      <th>useful</th>\n",
       "      <th>funny</th>\n",
       "      <th>cool</th>\n",
       "      <th>text</th>\n",
       "      <th>date</th>\n",
       "    </tr>\n",
       "  </thead>\n",
       "  <tbody>\n",
       "    <tr>\n",
       "      <td>0</td>\n",
       "      <td>Q1sbwvVQXV2734tPgoKj4Q</td>\n",
       "      <td>hG7b0MtEbXx5QzbzE6C_VA</td>\n",
       "      <td>ujmEBvifdJM6h6RLv4wQIg</td>\n",
       "      <td>1.0</td>\n",
       "      <td>6</td>\n",
       "      <td>1</td>\n",
       "      <td>0</td>\n",
       "      <td>Total bill for this horrible service? Over $8G...</td>\n",
       "      <td>2013-05-07 04:34:36</td>\n",
       "    </tr>\n",
       "    <tr>\n",
       "      <td>1</td>\n",
       "      <td>GJXCdrto3ASJOqKeVWPi6Q</td>\n",
       "      <td>yXQM5uF2jS6es16SJzNHfg</td>\n",
       "      <td>NZnhc2sEQy3RmzKTZnqtwQ</td>\n",
       "      <td>5.0</td>\n",
       "      <td>0</td>\n",
       "      <td>0</td>\n",
       "      <td>0</td>\n",
       "      <td>I *adore* Travis at the Hard Rock's new Kelly ...</td>\n",
       "      <td>2017-01-14 21:30:33</td>\n",
       "    </tr>\n",
       "    <tr>\n",
       "      <td>2</td>\n",
       "      <td>2TzJjDVDEuAW6MR5Vuc1ug</td>\n",
       "      <td>n6-Gk65cPZL6Uz8qRm3NYw</td>\n",
       "      <td>WTqjgwHlXbSFevF32_DJVw</td>\n",
       "      <td>5.0</td>\n",
       "      <td>3</td>\n",
       "      <td>0</td>\n",
       "      <td>0</td>\n",
       "      <td>I have to say that this office really has it t...</td>\n",
       "      <td>2016-11-09 20:09:03</td>\n",
       "    </tr>\n",
       "    <tr>\n",
       "      <td>3</td>\n",
       "      <td>yi0R0Ugj_xUx_Nek0-_Qig</td>\n",
       "      <td>dacAIZ6fTM6mqwW5uxkskg</td>\n",
       "      <td>ikCg8xy5JIg_NGPx-MSIDA</td>\n",
       "      <td>5.0</td>\n",
       "      <td>0</td>\n",
       "      <td>0</td>\n",
       "      <td>0</td>\n",
       "      <td>Went in for a lunch. Steak sandwich was delici...</td>\n",
       "      <td>2018-01-09 20:56:38</td>\n",
       "    </tr>\n",
       "    <tr>\n",
       "      <td>4</td>\n",
       "      <td>11a8sVPMUFtaC7_ABRkmtw</td>\n",
       "      <td>ssoyf2_x0EQMed6fgHeMyQ</td>\n",
       "      <td>b1b1eb3uo-w561D0ZfCEiQ</td>\n",
       "      <td>1.0</td>\n",
       "      <td>7</td>\n",
       "      <td>0</td>\n",
       "      <td>0</td>\n",
       "      <td>Today was my second out of three sessions I ha...</td>\n",
       "      <td>2018-01-30 23:07:38</td>\n",
       "    </tr>\n",
       "  </tbody>\n",
       "</table>\n",
       "</div>"
      ],
      "text/plain": [
       "                review_id                 user_id             business_id  \\\n",
       "0  Q1sbwvVQXV2734tPgoKj4Q  hG7b0MtEbXx5QzbzE6C_VA  ujmEBvifdJM6h6RLv4wQIg   \n",
       "1  GJXCdrto3ASJOqKeVWPi6Q  yXQM5uF2jS6es16SJzNHfg  NZnhc2sEQy3RmzKTZnqtwQ   \n",
       "2  2TzJjDVDEuAW6MR5Vuc1ug  n6-Gk65cPZL6Uz8qRm3NYw  WTqjgwHlXbSFevF32_DJVw   \n",
       "3  yi0R0Ugj_xUx_Nek0-_Qig  dacAIZ6fTM6mqwW5uxkskg  ikCg8xy5JIg_NGPx-MSIDA   \n",
       "4  11a8sVPMUFtaC7_ABRkmtw  ssoyf2_x0EQMed6fgHeMyQ  b1b1eb3uo-w561D0ZfCEiQ   \n",
       "\n",
       "   stars  useful  funny  cool  \\\n",
       "0    1.0       6      1     0   \n",
       "1    5.0       0      0     0   \n",
       "2    5.0       3      0     0   \n",
       "3    5.0       0      0     0   \n",
       "4    1.0       7      0     0   \n",
       "\n",
       "                                                text                 date  \n",
       "0  Total bill for this horrible service? Over $8G...  2013-05-07 04:34:36  \n",
       "1  I *adore* Travis at the Hard Rock's new Kelly ...  2017-01-14 21:30:33  \n",
       "2  I have to say that this office really has it t...  2016-11-09 20:09:03  \n",
       "3  Went in for a lunch. Steak sandwich was delici...  2018-01-09 20:56:38  \n",
       "4  Today was my second out of three sessions I ha...  2018-01-30 23:07:38  "
      ]
     },
     "execution_count": 19,
     "metadata": {},
     "output_type": "execute_result"
    }
   ],
   "source": [
    "reviewsDf = pd.DataFrame.from_dict(reviews['reviews'])\n",
    "reviewsDf.head()"
   ]
  },
  {
   "cell_type": "code",
   "execution_count": 70,
   "metadata": {},
   "outputs": [
    {
     "name": "stdout",
     "output_type": "stream",
     "text": [
      "Reviews: 659554\n"
     ]
    }
   ],
   "source": [
    "print('Reviews:',reviewsDf.shape[0])"
   ]
  },
  {
   "cell_type": "code",
   "execution_count": 84,
   "metadata": {},
   "outputs": [
    {
     "name": "stdout",
     "output_type": "stream",
     "text": [
      "businesses:  4716\n"
     ]
    },
    {
     "data": {
      "text/html": [
       "<div>\n",
       "<style scoped>\n",
       "    .dataframe tbody tr th:only-of-type {\n",
       "        vertical-align: middle;\n",
       "    }\n",
       "\n",
       "    .dataframe tbody tr th {\n",
       "        vertical-align: top;\n",
       "    }\n",
       "\n",
       "    .dataframe thead th {\n",
       "        text-align: right;\n",
       "    }\n",
       "</style>\n",
       "<table border=\"1\" class=\"dataframe\">\n",
       "  <thead>\n",
       "    <tr style=\"text-align: right;\">\n",
       "      <th></th>\n",
       "      <th>business_id</th>\n",
       "      <th>name</th>\n",
       "      <th>address</th>\n",
       "      <th>city</th>\n",
       "      <th>state</th>\n",
       "      <th>postal_code</th>\n",
       "      <th>latitude</th>\n",
       "      <th>longitude</th>\n",
       "      <th>stars</th>\n",
       "      <th>review_count</th>\n",
       "      <th>is_open</th>\n",
       "      <th>attributes</th>\n",
       "      <th>categories</th>\n",
       "      <th>hours</th>\n",
       "    </tr>\n",
       "  </thead>\n",
       "  <tbody>\n",
       "    <tr>\n",
       "      <td>0</td>\n",
       "      <td>fweCYi8FmbJXHCqLnwuk8w</td>\n",
       "      <td>Marco's Pizza</td>\n",
       "      <td>5981 Andrews Rd</td>\n",
       "      <td>Mentor-on-the-Lake</td>\n",
       "      <td>OH</td>\n",
       "      <td>44060</td>\n",
       "      <td>41.708520</td>\n",
       "      <td>-81.359556</td>\n",
       "      <td>4.0</td>\n",
       "      <td>16</td>\n",
       "      <td>1</td>\n",
       "      <td>{'RestaurantsPriceRange2': '2', 'BusinessAccep...</td>\n",
       "      <td>Italian, Restaurants, Pizza, Chicken Wings</td>\n",
       "      <td>{'Monday': '10:0-0:0', 'Tuesday': '10:0-0:0', ...</td>\n",
       "    </tr>\n",
       "    <tr>\n",
       "      <td>1</td>\n",
       "      <td>PZ-LZzSlhSe9utkQYU8pFg</td>\n",
       "      <td>Carluccio's Tivoli Gardens</td>\n",
       "      <td>1775 E Tropicana Ave, Ste 29</td>\n",
       "      <td>Las Vegas</td>\n",
       "      <td>NV</td>\n",
       "      <td>89119</td>\n",
       "      <td>36.100016</td>\n",
       "      <td>-115.128529</td>\n",
       "      <td>4.0</td>\n",
       "      <td>40</td>\n",
       "      <td>0</td>\n",
       "      <td>{'OutdoorSeating': 'False', 'BusinessAcceptsCr...</td>\n",
       "      <td>Restaurants, Italian</td>\n",
       "      <td>None</td>\n",
       "    </tr>\n",
       "    <tr>\n",
       "      <td>2</td>\n",
       "      <td>BvYU3jvGd0TJ7IyZdfiN2Q</td>\n",
       "      <td>Manzetti's Tavern</td>\n",
       "      <td>6401 Morrison Blvd</td>\n",
       "      <td>Charlotte</td>\n",
       "      <td>NC</td>\n",
       "      <td>28211</td>\n",
       "      <td>35.156338</td>\n",
       "      <td>-80.831878</td>\n",
       "      <td>3.5</td>\n",
       "      <td>16</td>\n",
       "      <td>0</td>\n",
       "      <td>{'Alcohol': 'u'full_bar'', 'BusinessAcceptsCre...</td>\n",
       "      <td>Sandwiches, Italian, American (Traditional), A...</td>\n",
       "      <td>{'Monday': '11:0-22:0', 'Tuesday': '11:0-22:0'...</td>\n",
       "    </tr>\n",
       "    <tr>\n",
       "      <td>3</td>\n",
       "      <td>PkDghu4aan2_wxrhXjTEgg</td>\n",
       "      <td>MiraKuru</td>\n",
       "      <td>529-17th Avenue SW</td>\n",
       "      <td>Calgary</td>\n",
       "      <td>AB</td>\n",
       "      <td>T2S 0A9</td>\n",
       "      <td>51.037778</td>\n",
       "      <td>-114.073351</td>\n",
       "      <td>3.5</td>\n",
       "      <td>16</td>\n",
       "      <td>0</td>\n",
       "      <td>{'WiFi': ''free'', 'GoodForDancing': 'False', ...</td>\n",
       "      <td>Nightlife, Italian, Restaurants, Japanese, Lou...</td>\n",
       "      <td>{'Tuesday': '14:0-23:0', 'Wednesday': '14:0-23...</td>\n",
       "    </tr>\n",
       "    <tr>\n",
       "      <td>4</td>\n",
       "      <td>RFbMVekR8lU9tPJ8sWrwHg</td>\n",
       "      <td>Tavolino</td>\n",
       "      <td>619 Mount Pleasant Road</td>\n",
       "      <td>Toronto</td>\n",
       "      <td>ON</td>\n",
       "      <td>M4S 2M5</td>\n",
       "      <td>43.704229</td>\n",
       "      <td>-79.388230</td>\n",
       "      <td>4.0</td>\n",
       "      <td>18</td>\n",
       "      <td>1</td>\n",
       "      <td>{'RestaurantsPriceRange2': '2', 'HasTV': 'Fals...</td>\n",
       "      <td>Italian, Restaurants</td>\n",
       "      <td>None</td>\n",
       "    </tr>\n",
       "  </tbody>\n",
       "</table>\n",
       "</div>"
      ],
      "text/plain": [
       "              business_id                        name  \\\n",
       "0  fweCYi8FmbJXHCqLnwuk8w               Marco's Pizza   \n",
       "1  PZ-LZzSlhSe9utkQYU8pFg  Carluccio's Tivoli Gardens   \n",
       "2  BvYU3jvGd0TJ7IyZdfiN2Q           Manzetti's Tavern   \n",
       "3  PkDghu4aan2_wxrhXjTEgg                    MiraKuru   \n",
       "4  RFbMVekR8lU9tPJ8sWrwHg                    Tavolino   \n",
       "\n",
       "                        address                city state postal_code  \\\n",
       "0               5981 Andrews Rd  Mentor-on-the-Lake    OH       44060   \n",
       "1  1775 E Tropicana Ave, Ste 29           Las Vegas    NV       89119   \n",
       "2            6401 Morrison Blvd           Charlotte    NC       28211   \n",
       "3            529-17th Avenue SW             Calgary    AB     T2S 0A9   \n",
       "4       619 Mount Pleasant Road             Toronto    ON     M4S 2M5   \n",
       "\n",
       "    latitude   longitude  stars  review_count  is_open  \\\n",
       "0  41.708520  -81.359556    4.0            16        1   \n",
       "1  36.100016 -115.128529    4.0            40        0   \n",
       "2  35.156338  -80.831878    3.5            16        0   \n",
       "3  51.037778 -114.073351    3.5            16        0   \n",
       "4  43.704229  -79.388230    4.0            18        1   \n",
       "\n",
       "                                          attributes  \\\n",
       "0  {'RestaurantsPriceRange2': '2', 'BusinessAccep...   \n",
       "1  {'OutdoorSeating': 'False', 'BusinessAcceptsCr...   \n",
       "2  {'Alcohol': 'u'full_bar'', 'BusinessAcceptsCre...   \n",
       "3  {'WiFi': ''free'', 'GoodForDancing': 'False', ...   \n",
       "4  {'RestaurantsPriceRange2': '2', 'HasTV': 'Fals...   \n",
       "\n",
       "                                          categories  \\\n",
       "0         Italian, Restaurants, Pizza, Chicken Wings   \n",
       "1                               Restaurants, Italian   \n",
       "2  Sandwiches, Italian, American (Traditional), A...   \n",
       "3  Nightlife, Italian, Restaurants, Japanese, Lou...   \n",
       "4                               Italian, Restaurants   \n",
       "\n",
       "                                               hours  \n",
       "0  {'Monday': '10:0-0:0', 'Tuesday': '10:0-0:0', ...  \n",
       "1                                               None  \n",
       "2  {'Monday': '11:0-22:0', 'Tuesday': '11:0-22:0'...  \n",
       "3  {'Tuesday': '14:0-23:0', 'Wednesday': '14:0-23...  \n",
       "4                                               None  "
      ]
     },
     "execution_count": 84,
     "metadata": {},
     "output_type": "execute_result"
    }
   ],
   "source": [
    "bizDf = pd.DataFrame.from_dict(business['business'])\n",
    "print('businesses: ',bizDf.shape[0])\n",
    "bizDf.head()"
   ]
  },
  {
   "cell_type": "markdown",
   "metadata": {},
   "source": [
    "### Language distribution\n",
    "\n",
    "99.4% of the reviews are identified as english with a 99.9% average confidence. We will filter out the other languages to avoid inserting noise in the subsecuent analysis."
   ]
  },
  {
   "cell_type": "code",
   "execution_count": 35,
   "metadata": {},
   "outputs": [],
   "source": [
    "import seaborn as sns\n",
    "import matplotlib.pyplot as plt\n",
    "%matplotlib inline"
   ]
  },
  {
   "cell_type": "code",
   "execution_count": 68,
   "metadata": {},
   "outputs": [
    {
     "data": {
      "text/html": [
       "<div>\n",
       "<style scoped>\n",
       "    .dataframe tbody tr th:only-of-type {\n",
       "        vertical-align: middle;\n",
       "    }\n",
       "\n",
       "    .dataframe tbody tr th {\n",
       "        vertical-align: top;\n",
       "    }\n",
       "\n",
       "    .dataframe thead th {\n",
       "        text-align: right;\n",
       "    }\n",
       "</style>\n",
       "<table border=\"1\" class=\"dataframe\">\n",
       "  <thead>\n",
       "    <tr style=\"text-align: right;\">\n",
       "      <th></th>\n",
       "      <th>count</th>\n",
       "      <th>mean</th>\n",
       "    </tr>\n",
       "    <tr>\n",
       "      <th>lang</th>\n",
       "      <th></th>\n",
       "      <th></th>\n",
       "    </tr>\n",
       "  </thead>\n",
       "  <tbody>\n",
       "    <tr>\n",
       "      <td>en</td>\n",
       "      <td>656220</td>\n",
       "      <td>0.999744</td>\n",
       "    </tr>\n",
       "    <tr>\n",
       "      <td>fr</td>\n",
       "      <td>2570</td>\n",
       "      <td>0.994051</td>\n",
       "    </tr>\n",
       "    <tr>\n",
       "      <td>es</td>\n",
       "      <td>243</td>\n",
       "      <td>0.985299</td>\n",
       "    </tr>\n",
       "    <tr>\n",
       "      <td>de</td>\n",
       "      <td>162</td>\n",
       "      <td>0.986769</td>\n",
       "    </tr>\n",
       "    <tr>\n",
       "      <td>zh-cn</td>\n",
       "      <td>61</td>\n",
       "      <td>0.976578</td>\n",
       "    </tr>\n",
       "  </tbody>\n",
       "</table>\n",
       "</div>"
      ],
      "text/plain": [
       "        count      mean\n",
       "lang                   \n",
       "en     656220  0.999744\n",
       "fr       2570  0.994051\n",
       "es        243  0.985299\n",
       "de        162  0.986769\n",
       "zh-cn      61  0.976578"
      ]
     },
     "execution_count": 68,
     "metadata": {},
     "output_type": "execute_result"
    }
   ],
   "source": [
    "#import spacy\n",
    "#from spacy_langdetbusinessmport LanguageDetector\n",
    "# review level language detection\n",
    "#nlp = spacy.load(\"en\")\n",
    "#nlp.add_pipe(LanguageDetector(), name=\"language_detector\", last=True)\n",
    "#lang = lambda t: nlp(t)._.language\n",
    "#languages = reviewsDf['text'].apply(lambda t: lang(t))\n",
    "#languages\n",
    "#langs = [d['language'] for d in languages]\n",
    "#scores = [d['score'] for d in languages]\n",
    "#reviewsDf['lang'] = langs\n",
    "#reviewsDf['score'] = scores\n",
    "#reviewsDf.to_csv('reviewsDf.csv',index=False)\n",
    "reviewsDf.groupby(['lang'])['score'].agg(['count','mean']).sort_values('count', ascending=False).head()"
   ]
  },
  {
   "cell_type": "code",
   "execution_count": 72,
   "metadata": {},
   "outputs": [],
   "source": [
    "reviewsEng = reviewsDf[reviewsDf['lang'] == 'en']\n",
    "reviewsEng.to_csv('reviewsEng.csv',index=False)"
   ]
  },
  {
   "cell_type": "markdown",
   "metadata": {},
   "source": [
    "### Categories distribution\n",
    "\n",
    "Of the 4716 businesses, only 667 have reviews. We can also see that we can be fairly confident that all those businesses are have food-related categories."
   ]
  },
  {
   "cell_type": "code",
   "execution_count": 87,
   "metadata": {},
   "outputs": [
    {
     "name": "stdout",
     "output_type": "stream",
     "text": [
      "Businesses with reviews:  667\n"
     ]
    }
   ],
   "source": [
    "valid_biz = reviewsEng['business_id'].drop_duplicates()\n",
    "valid_biz = pd.merge(bizDf, valid_biz, on='business_id', how='inner')\n",
    "print('Businesses with reviews: ',valid_biz.shape[0])"
   ]
  },
  {
   "cell_type": "code",
   "execution_count": 99,
   "metadata": {},
   "outputs": [
    {
     "data": {
      "text/html": [
       "<div>\n",
       "<style scoped>\n",
       "    .dataframe tbody tr th:only-of-type {\n",
       "        vertical-align: middle;\n",
       "    }\n",
       "\n",
       "    .dataframe tbody tr th {\n",
       "        vertical-align: top;\n",
       "    }\n",
       "\n",
       "    .dataframe thead th {\n",
       "        text-align: right;\n",
       "    }\n",
       "</style>\n",
       "<table border=\"1\" class=\"dataframe\">\n",
       "  <thead>\n",
       "    <tr style=\"text-align: right;\">\n",
       "      <th></th>\n",
       "      <th>count</th>\n",
       "    </tr>\n",
       "  </thead>\n",
       "  <tbody>\n",
       "    <tr>\n",
       "      <td>Restaurants</td>\n",
       "      <td>493</td>\n",
       "    </tr>\n",
       "    <tr>\n",
       "      <td>Italian</td>\n",
       "      <td>493</td>\n",
       "    </tr>\n",
       "    <tr>\n",
       "      <td>Pizza</td>\n",
       "      <td>240</td>\n",
       "    </tr>\n",
       "    <tr>\n",
       "      <td>Restaurants</td>\n",
       "      <td>174</td>\n",
       "    </tr>\n",
       "    <tr>\n",
       "      <td>Italian</td>\n",
       "      <td>174</td>\n",
       "    </tr>\n",
       "    <tr>\n",
       "      <td>Food</td>\n",
       "      <td>116</td>\n",
       "    </tr>\n",
       "    <tr>\n",
       "      <td>Nightlife</td>\n",
       "      <td>113</td>\n",
       "    </tr>\n",
       "    <tr>\n",
       "      <td>Bars</td>\n",
       "      <td>99</td>\n",
       "    </tr>\n",
       "    <tr>\n",
       "      <td>Pizza</td>\n",
       "      <td>86</td>\n",
       "    </tr>\n",
       "    <tr>\n",
       "      <td>Chicken Wings</td>\n",
       "      <td>61</td>\n",
       "    </tr>\n",
       "    <tr>\n",
       "      <td>Sandwiches</td>\n",
       "      <td>59</td>\n",
       "    </tr>\n",
       "    <tr>\n",
       "      <td>Wine Bars</td>\n",
       "      <td>50</td>\n",
       "    </tr>\n",
       "    <tr>\n",
       "      <td>American (New)</td>\n",
       "      <td>48</td>\n",
       "    </tr>\n",
       "    <tr>\n",
       "      <td>Salad</td>\n",
       "      <td>44</td>\n",
       "    </tr>\n",
       "    <tr>\n",
       "      <td>Event Planning &amp; Services</td>\n",
       "      <td>41</td>\n",
       "    </tr>\n",
       "    <tr>\n",
       "      <td>American (Traditional)</td>\n",
       "      <td>32</td>\n",
       "    </tr>\n",
       "    <tr>\n",
       "      <td>Caterers</td>\n",
       "      <td>32</td>\n",
       "    </tr>\n",
       "    <tr>\n",
       "      <td>Seafood</td>\n",
       "      <td>31</td>\n",
       "    </tr>\n",
       "    <tr>\n",
       "      <td>Desserts</td>\n",
       "      <td>25</td>\n",
       "    </tr>\n",
       "    <tr>\n",
       "      <td>Sandwiches</td>\n",
       "      <td>22</td>\n",
       "    </tr>\n",
       "  </tbody>\n",
       "</table>\n",
       "</div>"
      ],
      "text/plain": [
       "                            count\n",
       " Restaurants                  493\n",
       " Italian                      493\n",
       " Pizza                        240\n",
       "Restaurants                   174\n",
       "Italian                       174\n",
       " Food                         116\n",
       " Nightlife                    113\n",
       " Bars                          99\n",
       "Pizza                          86\n",
       " Chicken Wings                 61\n",
       " Sandwiches                    59\n",
       " Wine Bars                     50\n",
       " American (New)                48\n",
       " Salad                         44\n",
       " Event Planning & Services     41\n",
       " American (Traditional)        32\n",
       " Caterers                      32\n",
       " Seafood                       31\n",
       " Desserts                      25\n",
       "Sandwiches                     22"
      ]
     },
     "execution_count": 99,
     "metadata": {},
     "output_type": "execute_result"
    }
   ],
   "source": [
    "from collections import defaultdict\n",
    "categories = defaultdict(int)\n",
    "for row in valid_biz['categories'].str.split(','):\n",
    "    for c in row:\n",
    "        categories[c] += 1\n",
    "categories = pd.DataFrame.from_dict(categories, orient='index', columns=['count'])\n",
    "categories.sort_values('count', ascending=False).head(20)"
   ]
  },
  {
   "cell_type": "code",
   "execution_count": 100,
   "metadata": {},
   "outputs": [],
   "source": [
    "valid_biz.to_csv('valid_biz.csv', index=False)"
   ]
  },
  {
   "cell_type": "markdown",
   "metadata": {},
   "source": [
    "### Stars distribution\n",
    "\n",
    "A common practice is to polarize the star grading system, such that 1 and 2 stars area proxy for negative reviews, 4 and 5 for positive, and 3 as a neutral.  \n",
    "We can see from the data distribution that we have a bias dataset towards positive reviews, given that only 22% of the reviews are negative."
   ]
  },
  {
   "cell_type": "code",
   "execution_count": 113,
   "metadata": {},
   "outputs": [
    {
     "data": {
      "image/png": "[encoded data removed]",
      "text/plain": [
       "<Figure size 432x288 with 1 Axes>"
      ]
     },
     "metadata": {},
     "output_type": "display_data"
    }
   ],
   "source": [
    "sns.set(style=\"darkgrid\")\n",
    "_ = sns.countplot(x='stars',data=reviewsDf)"
   ]
  },
  {
   "cell_type": "markdown",
   "metadata": {},
   "source": [
    "#### Reviews per user\n",
    "\n",
    "Over 66% of users have just  review and 80% have up to 2 reviews. A possible transformation is to normalize the score of each customer by ther mean, but we dont have enough reviews per customer for it to be a reliable transformation.\n"
   ]
  },
  {
   "cell_type": "code",
   "execution_count": 148,
   "metadata": {},
   "outputs": [
    {
     "name": "stdout",
     "output_type": "stream",
     "text": [
      "Number of users:  376275\n"
     ]
    },
    {
     "data": {
      "image/png": "[encoded data removed]",
      "text/plain": [
       "<Figure size 432x288 with 1 Axes>"
      ]
     },
     "metadata": {},
     "output_type": "display_data"
    }
   ],
   "source": [
    "print('Number of users: ', reviewsDf['user_id'].drop_duplicates().shape[0])\n",
    "counts = reviewsDf['user_id'].value_counts().to_frame(name='Counts')\n",
    "counts['Counts'] = counts['Counts'].apply(lambda x: 10 if x > 10 else x)\n",
    "_ = sns.countplot(x='Counts', data=counts)"
   ]
  },
  {
   "cell_type": "code",
   "execution_count": 151,
   "metadata": {},
   "outputs": [
    {
     "name": "stderr",
     "output_type": "stream",
     "text": [
      "/home/fer/anaconda3/envs/froneus/lib/python3.6/site-packages/ipykernel_launcher.py:7: FutureWarning: The signature of `Series.to_csv` was aligned to that of `DataFrame.to_csv`, and argument 'header' will change its default value from False to True: please pass an explicit value to suppress this warning.\n",
      "  import sys\n",
      "/home/fer/anaconda3/envs/froneus/lib/python3.6/site-packages/ipykernel_launcher.py:8: FutureWarning: The signature of `Series.to_csv` was aligned to that of `DataFrame.to_csv`, and argument 'header' will change its default value from False to True: please pass an explicit value to suppress this warning.\n",
      "  \n",
      "/home/fer/anaconda3/envs/froneus/lib/python3.6/site-packages/ipykernel_launcher.py:9: FutureWarning: The signature of `Series.to_csv` was aligned to that of `DataFrame.to_csv`, and argument 'header' will change its default value from False to True: please pass an explicit value to suppress this warning.\n",
      "  if __name__ == '__main__':\n",
      "/home/fer/anaconda3/envs/froneus/lib/python3.6/site-packages/ipykernel_launcher.py:10: FutureWarning: The signature of `Series.to_csv` was aligned to that of `DataFrame.to_csv`, and argument 'header' will change its default value from False to True: please pass an explicit value to suppress this warning.\n",
      "  # Remove the CWD from sys.path while we load stuff.\n"
     ]
    }
   ],
   "source": [
    "from sklearn.model_selection import train_test_split\n",
    "\n",
    "X = reviewsEng['text'] \n",
    "Y = reviewsEng['stars'].apply(lambda x: 'negative' if x in [1,2] else 'neutral' if x == 3 else 'positive')\n",
    "\n",
    "X_train, X_test, Y_train, Y_test = train_test_split(X, Y, test_size=0.3)\n",
    "X_train.to_csv('data/X_train.csv', index=False)\n",
    "X_test.to_csv('data/X_test.csv', index=False)\n",
    "Y_train.to_csv('data/Y_train.csv', index=False)\n",
    "Y_test.to_csv('data/Y_test.csv', index=False)"
   ]
  },
  {
   "cell_type": "code",
   "execution_count": 112,
   "metadata": {},
   "outputs": [
    {
     "data": {
      "image/png": "[encoded data removed]",
      "text/plain": [
       "<Figure size 432x288 with 2 Axes>"
      ]
     },
     "metadata": {},
     "output_type": "display_data"
    }
   ],
   "source": [
    "import seaborn as sns\n",
    "import matplotlib.pyplot as plt\n",
    "\n",
    "%matplotlib inline\n",
    "sns.set(style=\"darkgrid\")\n",
    "\n",
    "fig, ax =plt.subplots(2,1)\n",
    "_ = sns.countplot(Y_test.sort_values(), ax=ax[0])\n",
    "_ = sns.countplot(Y_train.sort_values(), ax=ax[1])"
   ]
  },
  {
   "cell_type": "markdown",
   "metadata": {},
   "source": [
    "We continue on the **text representation** notebook, where we will evaluate different approaches to represent the space formed by the words in the reviews.."
   ]
  }
 ],
 "metadata": {
  "kernelspec": {
   "display_name": "py36",
   "language": "python",
   "name": "py36"
  },
  "language_info": {
   "codemirror_mode": {
    "name": "ipython",
    "version": 3
   },
   "file_extension": ".py",
   "mimetype": "text/x-python",
   "name": "python",
   "nbconvert_exporter": "python",
   "pygments_lexer": "ipython3",
   "version": "3.6.9"
  }
 },
 "nbformat": 4,
 "nbformat_minor": 4
}
