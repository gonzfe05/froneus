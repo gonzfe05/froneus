{
 "cells": [
  {
   "cell_type": "markdown",
   "metadata": {},
   "source": [
    "# Embeddings Model - Trained with sentences\n",
    "\n",
    "We will proceed to use embeddings as a representation of the reviews.  \n",
    "Using doc2vec, we can project the reviews to a vector space where the distances between document vectors (and word vectors) reflect the distance in meaning.\n",
    "This lets us capture the distance of a given review from the positive and negative reviews, considering the words in their context (instead of in isolation like in TF-IDF)."
   ]
  },
  {
   "cell_type": "code",
   "execution_count": 14,
   "metadata": {},
   "outputs": [],
   "source": [
    "from spacy.lang.en import English\n",
    "import spacy\n",
    "import gensim\n",
    "from gensim.models.doc2vec import TaggedDocument\n",
    "from gensim.models import Doc2Vec\n",
    "from collections import defaultdict\n",
    "from sklearn.base import TransformerMixin\n",
    "from sklearn.feature_extraction.text import CountVectorizer\n",
    "from sklearn.pipeline import Pipeline\n",
    "import string\n",
    "import pandas as pd\n",
    "import numpy as np\n",
    "from random import shuffle\n",
    "import pickle\n",
    "from sklearn.ensemble import RandomForestClassifier, AdaBoostClassifier, GradientBoostingClassifier\n",
    "from sklearn.model_selection import GridSearchCV\n",
    "from sklearn.metrics import confusion_matrix\n",
    "from utils import Clustering_utils, Plotting_utils, Features_utils\n",
    "\n",
    "punctuations = string.punctuation\n",
    "spacy_stopwords = spacy.lang.en.stop_words.STOP_WORDS\n",
    "parser = English()"
   ]
  },
  {
   "cell_type": "code",
   "execution_count": 2,
   "metadata": {},
   "outputs": [],
   "source": [
    "#Load datasets\n",
    "X_train = pd.read_csv('data/X_train.csv', header=None, names=['text'])\n",
    "X_test = pd.read_csv('data/X_test.csv', header=None, names=['text'])\n",
    "Y_train = pd.read_csv('data/Y_train.csv', header=None, names=['label'])\n",
    "Y_test = pd.read_csv('data/Y_test.csv', header=None, names=['label'])"
   ]
  },
  {
   "cell_type": "markdown",
   "metadata": {},
   "source": [
    "## doc2vec\n",
    "\n",
    "We will now build a model to vectorize the reviews"
   ]
  },
  {
   "cell_type": "markdown",
   "metadata": {},
   "source": [
    "### Prepare dataset"
   ]
  },
  {
   "cell_type": "code",
   "execution_count": 12,
   "metadata": {},
   "outputs": [],
   "source": [
    "# We will use this class to divide the reviews into sentences, and treat each sentence as a document in the doc2vec algorithm\n",
    "class to_sentence(TransformerMixin):\n",
    "    def __init__(self):\n",
    "        self.parser = English()\n",
    "        self.parserPipe = self.parser.create_pipe('sentencizer')\n",
    "        self.parser.add_pipe(self.parserPipe)\n",
    "        \n",
    "    def transform(self, X, **transform_params):\n",
    "        # Apply parser to each review so that we may extract the sentences\n",
    "        parsedText = X['text'].apply(lambda text: self.parser(text))\n",
    "        reviews = defaultdict(list)\n",
    "        for i,text in enumerate(parsedText):\n",
    "            # Extract sentence from each review, strip trailing spaces and turn lowercase.\n",
    "            for sentence in text.sents:\n",
    "                reviews[i].append(sentence.text.strip().lower())\n",
    "        return reviews\n",
    "\n",
    "    def fit(self, X, y=None, **fit_params):\n",
    "        return self\n",
    "\n",
    "# Transform reviews to sentences using pipeline\n",
    "steps = [(\"to_sentence\", to_sentence())]\n",
    "pipe = Pipeline(steps)\n",
    "# We divide the data according to its label to generate tags for the sentences\n",
    "# Doc2vec requires a unique identifier for each doc, and we will use its label as part of the tag\n",
    "train_pos_sentences = pipe.transform(X_train[Y_train['label'] == 'positive'])\n",
    "train_neg_sentences = pipe.transform(X_train[Y_train['label'] == 'negative'])\n",
    "train_neu_sentences = pipe.transform(X_train[Y_train['label'] == 'neutral'])\n",
    "train = {'pos':train_pos_sentences, 'neu':train_neu_sentences, 'neg':train_neg_sentences}"
   ]
  },
  {
   "cell_type": "markdown",
   "metadata": {},
   "source": [
    "## Functions to lemmatize data"
   ]
  },
  {
   "cell_type": "code",
   "execution_count": 19,
   "metadata": {},
   "outputs": [],
   "source": [
    "# We will use this class to tag each document before feeding it to doc2vec\n",
    "class TaggedDocumentSentence(object):\n",
    "    def __init__(self, sets_):\n",
    "        self.sets_ = sets_\n",
    "        self.parser = English()\n",
    "        self.sentences = []\n",
    "        self.tags = []\n",
    "\n",
    "    def tag(self):\n",
    "        #Tag will take the dictionary of label[review][sentence]\n",
    "        #Lemmatize each word, filter punctuation, stopwords and pronouns, and create a list of tokens for the sentence\n",
    "        #TaggedDocument is call on each sentence (a list of tokens) and a tag is generates using its label, review number and sentence number.\n",
    "        for sentiment, reviews in self.sets_.items():\n",
    "            for r, sentence_list in reviews.items():\n",
    "                for i, sentence in enumerate(sentence_list):\n",
    "                    parsedSentence = self.parser(sentence)\n",
    "                    sentenceClean = []\n",
    "                    # Lemmatize and filter\n",
    "                    for token in parsedSentence:\n",
    "                        if token.lemma_ != \"-PRON-\":\n",
    "                            if (token.is_stop == False) & (token.lemma_ not in punctuations):\n",
    "                                sentenceClean.append(token.lemma_)\n",
    "                    # List of taggedDocument to feed doc2vec\n",
    "                    self.sentences.append(TaggedDocument(words=sentenceClean, tags=[sentiment + '%s' % r + '%s' % i]))\n",
    "                    # List of tags so that we are able to call each sentence individually if neccesary\n",
    "                    self.tags.append([sentiment + '%s' % r + '%s' % i])\n",
    "    \n",
    "    def sentences_shuffle(self):\n",
    "        shuffle(self.sentences)\n",
    "        return self.sentences\n",
    "\n",
    "#Generate tagged documents\n",
    "reviewsTrain = TaggedDocumentSentence(train)\n",
    "reviewsTrain.tag()\n",
    "#Save taged documents\n",
    "with open('sentencesTrain', 'wb') as fp:\n",
    "    pickle.dump(reviewsTrain.sentences, fp)\n",
    "\n",
    "with open('tagsTrain', 'wb') as fp:\n",
    "    pickle.dump(reviewsTrain.tags, fp)"
   ]
  },
  {
   "cell_type": "markdown",
   "metadata": {},
   "source": [
    "## Train embedding"
   ]
  },
  {
   "cell_type": "code",
   "execution_count": 1,
   "metadata": {},
   "outputs": [],
   "source": [
    "# Load tagged documents\n",
    "with open ('sentencesTrain', 'rb') as fp:\n",
    "    sentencesTrain = pickle.load(fp)"
   ]
  },
  {
   "cell_type": "code",
   "execution_count": 2,
   "metadata": {},
   "outputs": [
    {
     "name": "stderr",
     "output_type": "stream",
     "text": [
      "/home/fer/anaconda3/envs/froneus/lib/python3.6/site-packages/gensim/models/doc2vec.py:574: UserWarning: The parameter `size` is deprecated, will be removed in 4.0.0, use `vector_size` instead.\n",
      "  warnings.warn(\"The parameter `size` is deprecated, will be removed in 4.0.0, use `vector_size` instead.\")\n"
     ]
    }
   ],
   "source": [
    "#We build the model class\n",
    "model = Doc2Vec(min_count=1, window=10, size=300, sample=1e-4, negative=5, workers=8)\n",
    "#Create vocabulary from the data\n",
    "#model.build_vocab(reviewsTrain.sentences)\n",
    "model.build_vocab(sentencesTrain)\n",
    "#Each model.epoch makes 5 passes through the data, so we are doing 20 epochs inside the loop\n",
    "for epoch in range(4):\n",
    "    # Is recommended to shuffle the documents between each training\n",
    "    shuffle(sentencesTrain)\n",
    "    model.train(sentencesTrain, total_examples=model.corpus_count, epochs=model.epochs)\n",
    "    #model.train(reviewsTrain.sentences_shuffle(), total_examples=model.corpus_count, epochs=model.epochs)\n",
    "#Save model\n",
    "model.save('reviews.d2v')"
   ]
  },
  {
   "cell_type": "code",
   "execution_count": 3,
   "metadata": {},
   "outputs": [
    {
     "data": {
      "text/plain": [
       "<gensim.models.doc2vec.Doc2Vec at 0x7fe10c18c940>"
      ]
     },
     "execution_count": 3,
     "metadata": {},
     "output_type": "execute_result"
    }
   ],
   "source": [
    "# Load model.\n",
    "model = gensim.models.Word2Vec.load(\"models/doc2vec/sentences/reviews.d2v\")\n",
    "model"
   ]
  },
  {
   "cell_type": "code",
   "execution_count": 98,
   "metadata": {},
   "outputs": [
    {
     "data": {
      "text/plain": [
       "[('breakfast', 1.0),\n",
       " ('brunch', 0.7803499698638916),\n",
       " ('lunch', 0.7185441255569458),\n",
       " ('scramble', 0.6296626925468445),\n",
       " ('eat', 0.6251168251037598),\n",
       " ('coffee', 0.6218966841697693),\n",
       " ('dinner', 0.6199612021446228),\n",
       " ('food', 0.6079570055007935),\n",
       " ('sandwich', 0.5934906005859375),\n",
       " ('buffet', 0.5889632701873779)]"
      ]
     },
     "execution_count": 98,
     "metadata": {},
     "output_type": "execute_result"
    }
   ],
   "source": [
    "# Sanity check of the vector space\n",
    "# The average of the vectors of the words must be related to similar words in meaning\n",
    "\n",
    "tok = ['breakfast','lunch']\n",
    "simVec = []\n",
    "for w in tok:\n",
    "    if w in model.wv.vocab.keys():\n",
    "        ivec = model.wv.get_vector(w)\n",
    "        simVec.append([ivec])\n",
    "meanVector = np.mean(simVec, axis=0).reshape((300,))\n",
    "model.wv.most_similar(positive=[meanVector], topn=10)"
   ]
  },
  {
   "cell_type": "markdown",
   "metadata": {},
   "source": [
    "# Reviews to vectors\n",
    "\n",
    "We will now build a class that uses the model to vectorize the reviews, and train a classifier over the projected space."
   ]
  },
  {
   "cell_type": "code",
   "execution_count": 7,
   "metadata": {},
   "outputs": [],
   "source": [
    "parser = English()\n",
    "\n",
    "\n",
    "class cleaner(TransformerMixin):\n",
    "    #Removes trailing space, turns to lowercase and removes newlines\n",
    "    def transform(self, X, **transform_params):\n",
    "        res = [text.strip().lower().replace('\\n','') for text in X.text]\n",
    "        return res\n",
    "\n",
    "    def fit(self, X, y=None, **fit_params):\n",
    "        return self\n",
    "\n",
    "class tokenizer(TransformerMixin):\n",
    "    # Lemmatizes the reviews\n",
    "    def transform(X,parser=parser, **transform_params):\n",
    "        token_list = []\n",
    "        for text in X:\n",
    "            parsedText = parser(text)\n",
    "            textTokens = []\n",
    "            for token in parsedText:\n",
    "                if token.lemma_ != \"-PRON-\":\n",
    "                    if (token.is_stop == False) & (token.lemma_ not in punctuations):\n",
    "                        textTokens.append(token.lemma_)\n",
    "            token_list.append(textTokens)\n",
    "        return token_list\n",
    "    \n",
    "    def fit(self, X, y=None, **fit_params):\n",
    "        return self\n",
    "\n",
    "class vectorizer(TransformerMixin):\n",
    "    # Projects the reviews to the vector space using the doc2vec model\n",
    "    def transform(self, X, model=model, **transform_params):\n",
    "        vecs = []\n",
    "        for review in X:\n",
    "            revVec = []\n",
    "            for w in review:\n",
    "                # If the word is in the vocabulary, return the learned projection\n",
    "                if w in model.wv.vocab.keys():\n",
    "                    wvec = model.wv.get_vector(w)\n",
    "                    revVec.append([wvec])\n",
    "                # If the word is new, infer its vector\n",
    "                else:\n",
    "                    wvec = model.infer_vector([w])\n",
    "                    revVec.append([wvec])\n",
    "            meanVector = np.mean(revVec, axis=0).reshape((300,))\n",
    "            vecs.append(meanVector)\n",
    "        return vecs\n",
    "\n",
    "    def fit(self, X, y=None, **fit_params):\n",
    "        return self\n",
    "\n",
    "# BUild pipe\n",
    "steps = [(\"cleaner\", cleaner()),('tokenizer', tokenizer),('vectorizer', vectorizer())]\n",
    "pipe = Pipeline(steps)\n",
    "# Project the reviews\n",
    "vectorizedReviews_train=pipe.transform(X_train)\n",
    "vectorizedReviews_test=pipe.transform(X_test)\n",
    "# Save the projected reviews\n",
    "vectorizedReviewsDF_train = pd.DataFrame.from_records(vectorizedReviews_train)\n",
    "vectorizedReviewsDF_train.to_csv('data/vectorized/train_vectorizedReviews_sentences.csv',index=False)\n",
    "vectorizedReviewsDF_test = pd.DataFrame.from_records(vectorizedReviews_test)\n",
    "vectorizedReviewsDF_test.to_csv('data/vectorized/test_vectorizedReviews_sentences.csv',index=False)"
   ]
  },
  {
   "cell_type": "markdown",
   "metadata": {},
   "source": [
    "# Gridsearch\n",
    "\n",
    "We proceed to do a gridsearch with crossvalidation over **Randomforest**  \n",
    "We chose booosting algorithms because they scale nicely with the number of variables, are nonlinear and robust to noise, which we saw is what we need. Ther are also generally a great benchmark.\n",
    "\n",
    "#### Since there is a tight time constraint, we will not do an exhaustive parameter space search. We will focus on showing the process of optimizing the models. It is very probable that we will arrive at overfited models or suboptimal parameters.\n",
    "\n",
    "#### We will use fewer CV folds than reocmended, to accelerate training time. We will also try only a couple of parameters per algorithm. This will highly increase the probability of overfit.\n",
    "\n",
    "#### Given that the classess are unbalanced, there will be a bias towards positive clasification. It is reccomended either for the observations to be weighted according to their unbalance or to use oversampling for the negative and neutral classes."
   ]
  },
  {
   "cell_type": "markdown",
   "metadata": {},
   "source": [
    "## Randomforest\n",
    "\n",
    "RandomForest fits several trees, each to a random sample of variables and rows from the original data. This combination of boosting and random sampling makes it very robust to noise and capable of handling a lot of variables.  \n",
    "\n",
    "Due to the time constraint, we will only optimize for number of trees and their max depth."
   ]
  },
  {
   "cell_type": "code",
   "execution_count": 9,
   "metadata": {},
   "outputs": [
    {
     "name": "stdout",
     "output_type": "stream",
     "text": [
      "Fitting 3 folds for each of 4 candidates, totalling 12 fits\n"
     ]
    },
    {
     "name": "stderr",
     "output_type": "stream",
     "text": [
      "[Parallel(n_jobs=4)]: Using backend LokyBackend with 4 concurrent workers.\n",
      "[Parallel(n_jobs=4)]: Done   9 out of  12 | elapsed: 236.1min remaining: 78.7min\n",
      "[Parallel(n_jobs=4)]: Done  12 out of  12 | elapsed: 428.3min finished\n",
      "/home/fer/anaconda3/envs/froneus/lib/python3.6/site-packages/sklearn/pipeline.py:356: DataConversionWarning: A column-vector y was passed when a 1d array was expected. Please change the shape of y to (n_samples,), for example using ravel().\n",
      "  self._final_estimator.fit(Xt, y, **fit_params)\n"
     ]
    }
   ],
   "source": [
    "# read vectorized reviews\n",
    "X_trainVec = pd.read_csv('data/vectorized/train_vectorizedReviews_sentences.csv')\n",
    "#Generate model pipeline\n",
    "rf_pipeline = Pipeline([('model', RandomForestClassifier())])\n",
    "\n",
    "#Gridsearch params\n",
    "RandomForest_param_grid = { \n",
    "    'model__n_estimators': [200,1200],\n",
    "    'model__max_depth' : [32,50],\n",
    "    'model__max_features': ['auto'],\n",
    "    'model__criterion' :['entropy'],\n",
    "    'model__random_state' : [91]\n",
    "}\n",
    "\n",
    "#search\n",
    "grid = GridSearchCV(rf_pipeline, param_grid=RandomForest_param_grid, cv=3,n_jobs=4,verbose=4)\n",
    "rf_grid_result = grid.fit(X_trainVec, Y_train)"
   ]
  },
  {
   "cell_type": "code",
   "execution_count": 11,
   "metadata": {},
   "outputs": [],
   "source": [
    "# Gridsearch results to dataframe\n",
    "cvresults = pd.DataFrame.from_dict(rf_grid_result.cv_results_)\n",
    "cvresults = pd.concat([cvresults.drop('params',axis=1),cvresults.params.apply(pd.Series)],axis=1)\n",
    "cvresults.to_csv('doc2vecSentence_cvresultsRF_1.csv', index=False)\n",
    "cvresults"
   ]
  },
  {
   "cell_type": "markdown",
   "metadata": {},
   "source": [
    "# Testing\n",
    "\n",
    "We proceed to evaluate the models performance over the test split (30%).  \n",
    "We will use a common performance metric, **confusion matrix**, which measures the number of correctly and incorrectly classified examples. Helps to check the level of overfitting. It has the drawback that it must use a fixed threshold, thus, may be biased because the best threshold may not be the one used."
   ]
  },
  {
   "cell_type": "code",
   "execution_count": 9,
   "metadata": {
    "collapsed": true,
    "jupyter": {
     "outputs_hidden": true
    }
   },
   "outputs": [
    {
     "name": "stderr",
     "output_type": "stream",
     "text": [
      "/home/fer/anaconda3/envs/froneus/lib/python3.6/site-packages/ipykernel_launcher.py:8: DataConversionWarning: A column-vector y was passed when a 1d array was expected. Please change the shape of y to (n_samples,), for example using ravel().\n",
      "  \n",
      "[Parallel(n_jobs=4)]: Using backend ThreadingBackend with 4 concurrent workers.\n"
     ]
    },
    {
     "name": "stdout",
     "output_type": "stream",
     "text": [
      "building tree 1 of 200\n",
      "building tree 2 of 200\n",
      "building tree 3 of 200\n",
      "building tree 4 of 200\n",
      "building tree 5 of 200\n",
      "building tree 6 of 200\n",
      "building tree 7 of 200\n",
      "building tree 8 of 200\n",
      "building tree 9 of 200\n",
      "building tree 10 of 200\n"
     ]
    },
    {
     "name": "stderr",
     "output_type": "stream",
     "text": [
      "[Parallel(n_jobs=4)]: Done   5 tasks      | elapsed:   32.8s\n"
     ]
    },
    {
     "name": "stdout",
     "output_type": "stream",
     "text": [
      "building tree 11 of 200\n",
      "building tree 12 of 200\n",
      "building tree 13 of 200\n",
      "building tree 14 of 200\n"
     ]
    },
    {
     "name": "stderr",
     "output_type": "stream",
     "text": [
      "[Parallel(n_jobs=4)]: Done  10 tasks      | elapsed:   49.2s\n"
     ]
    },
    {
     "name": "stdout",
     "output_type": "stream",
     "text": [
      "building tree 15 of 200\n",
      "building tree 16 of 200\n",
      "building tree 17 of 200\n",
      "building tree 18 of 200\n",
      "building tree 19 of 200\n",
      "building tree 20 of 200\n",
      "building tree 21 of 200\n"
     ]
    },
    {
     "name": "stderr",
     "output_type": "stream",
     "text": [
      "[Parallel(n_jobs=4)]: Done  17 tasks      | elapsed:  1.4min\n"
     ]
    },
    {
     "name": "stdout",
     "output_type": "stream",
     "text": [
      "building tree 22 of 200\n",
      "building tree 23 of 200\n",
      "building tree 24 of 200\n",
      "building tree 25 of 200\n",
      "building tree 26 of 200\n",
      "building tree 27 of 200\n",
      "building tree 28 of 200\n"
     ]
    },
    {
     "name": "stderr",
     "output_type": "stream",
     "text": [
      "[Parallel(n_jobs=4)]: Done  24 tasks      | elapsed:  1.7min\n"
     ]
    },
    {
     "name": "stdout",
     "output_type": "stream",
     "text": [
      "building tree 29 of 200\n",
      "building tree 30 of 200\n",
      "building tree 31 of 200\n",
      "building tree 32 of 200\n",
      "building tree 33 of 200\n",
      "building tree 34 of 200\n",
      "building tree 35 of 200\n",
      "building tree 36 of 200\n",
      "building tree 37 of 200\n",
      "building tree 38 of 200\n"
     ]
    },
    {
     "name": "stderr",
     "output_type": "stream",
     "text": [
      "[Parallel(n_jobs=4)]: Done  33 tasks      | elapsed:  2.5min\n"
     ]
    },
    {
     "name": "stdout",
     "output_type": "stream",
     "text": [
      "building tree 39 of 200\n",
      "building tree 40 of 200\n",
      "building tree 41 of 200\n",
      "building tree 42 of 200\n",
      "building tree 43 of 200\n",
      "building tree 44 of 200\n",
      "building tree 45 of 200\n",
      "building tree 46 of 200\n"
     ]
    },
    {
     "name": "stderr",
     "output_type": "stream",
     "text": [
      "[Parallel(n_jobs=4)]: Done  42 tasks      | elapsed:  3.0min\n"
     ]
    },
    {
     "name": "stdout",
     "output_type": "stream",
     "text": [
      "building tree 47 of 200\n",
      "building tree 48 of 200\n",
      "building tree 49 of 200\n",
      "building tree 50 of 200\n",
      "building tree 51 of 200\n",
      "building tree 52 of 200\n",
      "building tree 53 of 200\n",
      "building tree 54 of 200\n",
      "building tree 55 of 200\n",
      "building tree 56 of 200\n",
      "building tree 57 of 200\n"
     ]
    },
    {
     "name": "stderr",
     "output_type": "stream",
     "text": [
      "[Parallel(n_jobs=4)]: Done  53 tasks      | elapsed:  3.8min\n"
     ]
    },
    {
     "name": "stdout",
     "output_type": "stream",
     "text": [
      "building tree 58 of 200\n",
      "building tree 59 of 200\n",
      "building tree 60 of 200\n",
      "building tree 61 of 200\n",
      "building tree 62 of 200\n",
      "building tree 63 of 200\n",
      "building tree 64 of 200\n",
      "building tree 65 of 200\n",
      "building tree 66 of 200\n",
      "building tree 67 of 200\n",
      "building tree 68 of 200\n"
     ]
    },
    {
     "name": "stderr",
     "output_type": "stream",
     "text": [
      "[Parallel(n_jobs=4)]: Done  64 tasks      | elapsed:  4.4min\n"
     ]
    },
    {
     "name": "stdout",
     "output_type": "stream",
     "text": [
      "building tree 69 of 200\n",
      "building tree 70 of 200\n",
      "building tree 71 of 200\n",
      "building tree 72 of 200\n",
      "building tree 73 of 200\n",
      "building tree 74 of 200\n",
      "building tree 75 of 200\n",
      "building tree 76 of 200\n",
      "building tree 77 of 200\n",
      "building tree 78 of 200\n",
      "building tree 79 of 200\n",
      "building tree 80 of 200\n"
     ]
    },
    {
     "name": "stderr",
     "output_type": "stream",
     "text": [
      "[Parallel(n_jobs=4)]: Done  77 tasks      | elapsed:  5.5min\n"
     ]
    },
    {
     "name": "stdout",
     "output_type": "stream",
     "text": [
      "building tree 81 of 200\n",
      "building tree 82 of 200\n",
      "building tree 83 of 200\n",
      "building tree 84 of 200\n",
      "building tree 85 of 200\n",
      "building tree 86 of 200\n",
      "building tree 87 of 200\n",
      "building tree 88 of 200\n",
      "building tree 89 of 200\n",
      "building tree 90 of 200\n",
      "building tree 91 of 200\n",
      "building tree 92 of 200\n",
      "building tree 93 of 200\n",
      "building tree 94 of 200\n"
     ]
    },
    {
     "name": "stderr",
     "output_type": "stream",
     "text": [
      "[Parallel(n_jobs=4)]: Done  90 tasks      | elapsed:  6.3min\n"
     ]
    },
    {
     "name": "stdout",
     "output_type": "stream",
     "text": [
      "building tree 95 of 200\n",
      "building tree 96 of 200\n",
      "building tree 97 of 200\n",
      "building tree 98 of 200\n",
      "building tree 99 of 200\n",
      "building tree 100 of 200\n",
      "building tree 101 of 200\n",
      "building tree 102 of 200\n",
      "building tree 103 of 200\n",
      "building tree 104 of 200\n",
      "building tree 105 of 200\n",
      "building tree 106 of 200\n",
      "building tree 107 of 200\n",
      "building tree 108 of 200\n",
      "building tree 109 of 200\n"
     ]
    },
    {
     "name": "stderr",
     "output_type": "stream",
     "text": [
      "[Parallel(n_jobs=4)]: Done 105 tasks      | elapsed:  7.4min\n"
     ]
    },
    {
     "name": "stdout",
     "output_type": "stream",
     "text": [
      "building tree 110 of 200\n",
      "building tree 111 of 200\n",
      "building tree 112 of 200\n",
      "building tree 113 of 200\n",
      "building tree 114 of 200\n",
      "building tree 115 of 200\n",
      "building tree 116 of 200\n",
      "building tree 117 of 200\n",
      "building tree 118 of 200\n",
      "building tree 119 of 200\n",
      "building tree 120 of 200\n",
      "building tree 121 of 200\n",
      "building tree 122 of 200\n",
      "building tree 123 of 200\n"
     ]
    },
    {
     "name": "stderr",
     "output_type": "stream",
     "text": [
      "[Parallel(n_jobs=4)]: Done 120 tasks      | elapsed:  8.3min\n"
     ]
    },
    {
     "name": "stdout",
     "output_type": "stream",
     "text": [
      "building tree 124 of 200\n",
      "building tree 125 of 200\n",
      "building tree 126 of 200\n",
      "building tree 127 of 200\n",
      "building tree 128 of 200\n",
      "building tree 129 of 200\n",
      "building tree 130 of 200\n",
      "building tree 131 of 200\n",
      "building tree 132 of 200\n",
      "building tree 133 of 200\n",
      "building tree 134 of 200\n",
      "building tree 135 of 200\n",
      "building tree 136 of 200\n",
      "building tree 137 of 200\n",
      "building tree 138 of 200\n",
      "building tree 139 of 200\n",
      "building tree 140 of 200\n",
      "building tree 141 of 200\n"
     ]
    },
    {
     "name": "stderr",
     "output_type": "stream",
     "text": [
      "[Parallel(n_jobs=4)]: Done 137 tasks      | elapsed:  9.5min\n"
     ]
    },
    {
     "name": "stdout",
     "output_type": "stream",
     "text": [
      "building tree 142 of 200\n",
      "building tree 143 of 200\n",
      "building tree 144 of 200\n",
      "building tree 145 of 200\n",
      "building tree 146 of 200\n",
      "building tree 147 of 200\n",
      "building tree 148 of 200\n",
      "building tree 149 of 200\n",
      "building tree 150 of 200\n",
      "building tree 151 of 200\n",
      "building tree 152 of 200\n",
      "building tree 153 of 200\n",
      "building tree 154 of 200\n",
      "building tree 155 of 200\n",
      "building tree 156 of 200\n",
      "building tree 157 of 200\n",
      "building tree 158 of 200\n"
     ]
    },
    {
     "name": "stderr",
     "output_type": "stream",
     "text": [
      "[Parallel(n_jobs=4)]: Done 154 tasks      | elapsed: 10.6min\n"
     ]
    },
    {
     "name": "stdout",
     "output_type": "stream",
     "text": [
      "building tree 159 of 200\n",
      "building tree 160 of 200\n",
      "building tree 161 of 200\n",
      "building tree 162 of 200\n",
      "building tree 163 of 200\n",
      "building tree 164 of 200\n",
      "building tree 165 of 200\n",
      "building tree 166 of 200\n",
      "building tree 167 of 200\n",
      "building tree 168 of 200\n",
      "building tree 169 of 200\n",
      "building tree 170 of 200\n",
      "building tree 171 of 200\n",
      "building tree 172 of 200\n",
      "building tree 173 of 200\n",
      "building tree 174 of 200\n",
      "building tree 175 of 200\n",
      "building tree 176 of 200\n",
      "building tree 177 of 200\n"
     ]
    },
    {
     "name": "stderr",
     "output_type": "stream",
     "text": [
      "[Parallel(n_jobs=4)]: Done 173 tasks      | elapsed: 11.9min\n"
     ]
    },
    {
     "name": "stdout",
     "output_type": "stream",
     "text": [
      "building tree 178 of 200\n",
      "building tree 179 of 200\n",
      "building tree 180 of 200\n",
      "building tree 181 of 200\n",
      "building tree 182 of 200\n",
      "building tree 183 of 200\n",
      "building tree 184 of 200\n",
      "building tree 185 of 200\n",
      "building tree 186 of 200\n",
      "building tree 187 of 200\n",
      "building tree 188 of 200\n",
      "building tree 189 of 200\n",
      "building tree 190 of 200\n",
      "building tree 191 of 200\n",
      "building tree 192 of 200\n",
      "building tree 193 of 200\n",
      "building tree 194 of 200\n",
      "building tree 195 of 200\n",
      "building tree 196 of 200\n"
     ]
    },
    {
     "name": "stderr",
     "output_type": "stream",
     "text": [
      "[Parallel(n_jobs=4)]: Done 192 tasks      | elapsed: 13.1min\n"
     ]
    },
    {
     "name": "stdout",
     "output_type": "stream",
     "text": [
      "building tree 197 of 200\n",
      "building tree 198 of 200\n",
      "building tree 199 of 200\n",
      "building tree 200 of 200\n"
     ]
    },
    {
     "name": "stderr",
     "output_type": "stream",
     "text": [
      "[Parallel(n_jobs=4)]: Done 200 out of 200 | elapsed: 13.7min finished\n",
      "[Parallel(n_jobs=4)]: Using backend ThreadingBackend with 4 concurrent workers.\n",
      "[Parallel(n_jobs=4)]: Done   5 tasks      | elapsed:    0.2s\n",
      "[Parallel(n_jobs=4)]: Done  10 tasks      | elapsed:    0.3s\n",
      "[Parallel(n_jobs=4)]: Done  17 tasks      | elapsed:    0.6s\n",
      "[Parallel(n_jobs=4)]: Done  24 tasks      | elapsed:    0.8s\n",
      "[Parallel(n_jobs=4)]: Done  33 tasks      | elapsed:    1.1s\n",
      "[Parallel(n_jobs=4)]: Done  42 tasks      | elapsed:    1.4s\n",
      "[Parallel(n_jobs=4)]: Done  53 tasks      | elapsed:    1.8s\n",
      "[Parallel(n_jobs=4)]: Done  64 tasks      | elapsed:    2.2s\n",
      "[Parallel(n_jobs=4)]: Done  77 tasks      | elapsed:    2.7s\n",
      "[Parallel(n_jobs=4)]: Done  90 tasks      | elapsed:    3.2s\n",
      "[Parallel(n_jobs=4)]: Done 105 tasks      | elapsed:    3.8s\n",
      "[Parallel(n_jobs=4)]: Done 120 tasks      | elapsed:    4.4s\n",
      "[Parallel(n_jobs=4)]: Done 137 tasks      | elapsed:    5.1s\n",
      "[Parallel(n_jobs=4)]: Done 154 tasks      | elapsed:    5.8s\n",
      "[Parallel(n_jobs=4)]: Done 173 tasks      | elapsed:    6.7s\n",
      "[Parallel(n_jobs=4)]: Done 192 tasks      | elapsed:    7.4s\n",
      "[Parallel(n_jobs=4)]: Done 200 out of 200 | elapsed:    7.6s finished\n",
      "[Parallel(n_jobs=4)]: Using backend ThreadingBackend with 4 concurrent workers.\n",
      "[Parallel(n_jobs=4)]: Done   5 tasks      | elapsed:    0.4s\n",
      "[Parallel(n_jobs=4)]: Done  10 tasks      | elapsed:    0.7s\n",
      "[Parallel(n_jobs=4)]: Done  17 tasks      | elapsed:    1.3s\n",
      "[Parallel(n_jobs=4)]: Done  24 tasks      | elapsed:    1.9s\n",
      "[Parallel(n_jobs=4)]: Done  33 tasks      | elapsed:    2.6s\n",
      "[Parallel(n_jobs=4)]: Done  42 tasks      | elapsed:    3.2s\n",
      "[Parallel(n_jobs=4)]: Done  53 tasks      | elapsed:    4.1s\n",
      "[Parallel(n_jobs=4)]: Done  64 tasks      | elapsed:    4.8s\n",
      "[Parallel(n_jobs=4)]: Done  77 tasks      | elapsed:    5.8s\n",
      "[Parallel(n_jobs=4)]: Done  90 tasks      | elapsed:    6.9s\n",
      "[Parallel(n_jobs=4)]: Done 105 tasks      | elapsed:    7.9s\n",
      "[Parallel(n_jobs=4)]: Done 120 tasks      | elapsed:    9.1s\n",
      "[Parallel(n_jobs=4)]: Done 137 tasks      | elapsed:   10.3s\n",
      "[Parallel(n_jobs=4)]: Done 154 tasks      | elapsed:   11.6s\n",
      "[Parallel(n_jobs=4)]: Done 173 tasks      | elapsed:   13.0s\n",
      "[Parallel(n_jobs=4)]: Done 192 tasks      | elapsed:   14.4s\n",
      "[Parallel(n_jobs=4)]: Done 200 out of 200 | elapsed:   15.0s finished\n"
     ]
    }
   ],
   "source": [
    "X_trainVec = pd.read_csv('data/vectorized/train_vectorizedReviews_sentences.csv')\n",
    "X_testVec = pd.read_csv('data/vectorized/test_vectorizedReviews_sentences.csv')\n",
    "\n",
    "# Build model with best params\n",
    "rf = RandomForestClassifier(n_estimators= 200,max_depth = 50,max_features= 'auto',criterion= 'entropy',random_state= 91,verbose=10,n_jobs=4)\n",
    "\n",
    "#train\n",
    "rf.fit(X_trainVec, Y_train)\n",
    "#test\n",
    "predicted_Y = rf.predict(X_testVec)\n",
    "predicted_Y_train = rf.predict(X_trainVec)"
   ]
  },
  {
   "cell_type": "markdown",
   "metadata": {},
   "source": [
    "### Visualization of projected space\n",
    "\n",
    "We graph 1000 reviews projected on the 30 vectors that offer the best separability.  \n",
    "We can observe that there is a lot of overlap in the classes distribution, which indicates that there is not a small group of variables that lets the model separate the classes.\n"
   ]
  },
  {
   "cell_type": "code",
   "execution_count": 127,
   "metadata": {},
   "outputs": [
    {
     "data": {
      "image/png": "[encoded data removed]",
      "text/plain": [
       "<Figure size 1080x720 with 1 Axes>"
      ]
     },
     "metadata": {},
     "output_type": "display_data"
    }
   ],
   "source": [
    "sample = np.random.choice(X_trainVec.shape[0],1000)\n",
    "sample_X = X_trainVec.iloc[sample]\n",
    "sample_Y = Y_train.iloc[sample].reset_index(drop=True)\n",
    "best_vars = rf.feature_importances_.argsort()[-30:][::-1]\n",
    "sample_X = sample_X.iloc[:,list(best_vars)].T.reset_index(drop=True).T\n",
    "sample_X = sample_X.reset_index(drop=True)\n",
    "#Radviz for best features\n",
    "sample_Y_ = sample_Y['label'].apply(lambda x: 1 if x=='positive' else 0 if x=='neutral' else -1)\n",
    "Plotting_utils.plot_RadViz(sample_X,sample_Y_)"
   ]
  },
  {
   "cell_type": "code",
   "execution_count": 11,
   "metadata": {},
   "outputs": [
    {
     "name": "stdout",
     "output_type": "stream",
     "text": [
      "Confusion matrix - Training \n",
      " [[1. 0. 0.]\n",
      " [0. 1. 0.]\n",
      " [0. 0. 1.]]\n"
     ]
    },
    {
     "data": {
      "image/png": "[encoded data removed]",
      "text/plain": [
       "<Figure size 432x288 with 1 Axes>"
      ]
     },
     "metadata": {
      "needs_background": "light"
     },
     "output_type": "display_data"
    }
   ],
   "source": [
    "%matplotlib inline\n",
    "cm = confusion_matrix(Y_train,predicted_Y_train)\n",
    "cm = np.array([round(s/sum(cm[i]),2) for i,score in enumerate(cm) for s in score]).reshape(3,3)\n",
    "print('Confusion matrix - Training \\n', cm)\n",
    "_ = sns.barplot(x=['Neg','Neu','Pos'],y=[cm[i][i] for i,x in enumerate(cm)]).set_title(\"Accuracy - Training\")"
   ]
  },
  {
   "cell_type": "code",
   "execution_count": 12,
   "metadata": {},
   "outputs": [
    {
     "name": "stdout",
     "output_type": "stream",
     "text": [
      "Confusion matrix - Testing \n",
      " [[0.76 0.   0.24]\n",
      " [0.23 0.01 0.76]\n",
      " [0.03 0.   0.97]]\n"
     ]
    },
    {
     "data": {
      "image/png": "[encoded data removed]",
      "text/plain": [
       "<Figure size 432x288 with 1 Axes>"
      ]
     },
     "metadata": {
      "needs_background": "light"
     },
     "output_type": "display_data"
    }
   ],
   "source": [
    "cm = confusion_matrix(Y_test,predicted_Y)\n",
    "cm = np.array([round(s/sum(cm[i]),2) for i,score in enumerate(cm) for s in score]).reshape(3,3)\n",
    "print('Confusion matrix - Testing \\n', cm)\n",
    "_ = sns.barplot(x=['Neg','Neu','Pos'],y=[cm[i][i] for i,x in enumerate(cm)]).set_title(\"Accuracy - Testing\")"
   ]
  }
 ],
 "metadata": {
  "kernelspec": {
   "display_name": "py36",
   "language": "python",
   "name": "py36"
  },
  "language_info": {
   "codemirror_mode": {
    "name": "ipython",
    "version": 3
   },
   "file_extension": ".py",
   "mimetype": "text/x-python",
   "name": "python",
   "nbconvert_exporter": "python",
   "pygments_lexer": "ipython3",
   "version": "3.6.9"
  }
 },
 "nbformat": 4,
 "nbformat_minor": 4
}
